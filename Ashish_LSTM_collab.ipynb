{
 "cells": [
  {
   "cell_type": "markdown",
   "metadata": {
    "id": "JNN1VZyrqVgA"
   },
   "source": [
    "# Title: Time series analysis of pm2.5 alongwith prediction model building "
   ]
  },
  {
   "cell_type": "code",
   "execution_count": 1,
   "metadata": {
    "executionInfo": {
     "elapsed": 506,
     "status": "ok",
     "timestamp": 1639715846324,
     "user": {
      "displayName": "Ashish Jha",
      "photoUrl": "https://lh3.googleusercontent.com/a-/AOh14Gh-ozBKE0He1qH4ZZ94HRMt241gIELK_ULLP7n1Mw=s64",
      "userId": "09828439102845854314"
     },
     "user_tz": -330
    },
    "id": "s4PaZLLGqzYE"
   },
   "outputs": [],
   "source": [
    "# from google.colab import drive\n",
    "# drive.mount('/content/drive')"
   ]
  },
  {
   "cell_type": "code",
   "execution_count": 2,
   "metadata": {
    "executionInfo": {
     "elapsed": 591,
     "status": "ok",
     "timestamp": 1639715847860,
     "user": {
      "displayName": "Ashish Jha",
      "photoUrl": "https://lh3.googleusercontent.com/a-/AOh14Gh-ozBKE0He1qH4ZZ94HRMt241gIELK_ULLP7n1Mw=s64",
      "userId": "09828439102845854314"
     },
     "user_tz": -330
    },
    "id": "nRSlxT4q5EHJ"
   },
   "outputs": [],
   "source": [
    "#importing libraries to use them ahead\n",
    "import pandas as pd\n",
    "import numpy as np\n",
    "import matplotlib.pyplot as plt"
   ]
  },
  {
   "cell_type": "code",
   "execution_count": 3,
   "metadata": {
    "executionInfo": {
     "elapsed": 2593,
     "status": "ok",
     "timestamp": 1639715850440,
     "user": {
      "displayName": "Ashish Jha",
      "photoUrl": "https://lh3.googleusercontent.com/a-/AOh14Gh-ozBKE0He1qH4ZZ94HRMt241gIELK_ULLP7n1Mw=s64",
      "userId": "09828439102845854314"
     },
     "user_tz": -330
    },
    "id": "2fRF6mEW5QbK"
   },
   "outputs": [],
   "source": [
    "# df = pd.read_csv('Ashish_lstm.csv',index_col='Date',parse_dates=True)\n",
    "#Reading the data from the field\n",
    "df = pd.read_csv('lstm_im.csv', index_col='date',parse_dates=True)\n",
    "df.index.freq='H'\n",
    "# df = pd.read_csv('lstm_im.csv', parse_dates=True, index_col='date',names=['date', 'pm2.5'], header=None, sep=',')"
   ]
  },
  {
   "cell_type": "code",
   "execution_count": 4,
   "metadata": {
    "colab": {
     "base_uri": "https://localhost:8080/",
     "height": 455
    },
    "executionInfo": {
     "elapsed": 97,
     "status": "ok",
     "timestamp": 1639715850445,
     "user": {
      "displayName": "Ashish Jha",
      "photoUrl": "https://lh3.googleusercontent.com/a-/AOh14Gh-ozBKE0He1qH4ZZ94HRMt241gIELK_ULLP7n1Mw=s64",
      "userId": "09828439102845854314"
     },
     "user_tz": -330
    },
    "id": "Z5lFDkuNqVgT",
    "outputId": "fb5bfb8d-7b13-4296-ccd5-a70f8db95bd1"
   },
   "outputs": [
    {
     "data": {
      "text/html": [
       "<div>\n",
       "<style scoped>\n",
       "    .dataframe tbody tr th:only-of-type {\n",
       "        vertical-align: middle;\n",
       "    }\n",
       "\n",
       "    .dataframe tbody tr th {\n",
       "        vertical-align: top;\n",
       "    }\n",
       "\n",
       "    .dataframe thead th {\n",
       "        text-align: right;\n",
       "    }\n",
       "</style>\n",
       "<table border=\"1\" class=\"dataframe\">\n",
       "  <thead>\n",
       "    <tr style=\"text-align: right;\">\n",
       "      <th></th>\n",
       "      <th>pm2.5</th>\n",
       "    </tr>\n",
       "    <tr>\n",
       "      <th>date</th>\n",
       "      <th></th>\n",
       "    </tr>\n",
       "  </thead>\n",
       "  <tbody>\n",
       "    <tr>\n",
       "      <th>01-01-2018 00:00</th>\n",
       "      <td>5.6</td>\n",
       "    </tr>\n",
       "    <tr>\n",
       "      <th>01-01-2018 01:00</th>\n",
       "      <td>1.6</td>\n",
       "    </tr>\n",
       "    <tr>\n",
       "      <th>01-01-2018 02:00</th>\n",
       "      <td>1.7</td>\n",
       "    </tr>\n",
       "    <tr>\n",
       "      <th>01-01-2018 03:00</th>\n",
       "      <td>0.8</td>\n",
       "    </tr>\n",
       "    <tr>\n",
       "      <th>01-01-2018 04:00</th>\n",
       "      <td>2.3</td>\n",
       "    </tr>\n",
       "    <tr>\n",
       "      <th>...</th>\n",
       "      <td>...</td>\n",
       "    </tr>\n",
       "    <tr>\n",
       "      <th>31-12-2018 19:00</th>\n",
       "      <td>8.8</td>\n",
       "    </tr>\n",
       "    <tr>\n",
       "      <th>31-12-2018 20:00</th>\n",
       "      <td>8.1</td>\n",
       "    </tr>\n",
       "    <tr>\n",
       "      <th>31-12-2018 21:00</th>\n",
       "      <td>8.9</td>\n",
       "    </tr>\n",
       "    <tr>\n",
       "      <th>31-12-2018 22:00</th>\n",
       "      <td>7.4</td>\n",
       "    </tr>\n",
       "    <tr>\n",
       "      <th>31-12-2018 23:00</th>\n",
       "      <td>7.9</td>\n",
       "    </tr>\n",
       "  </tbody>\n",
       "</table>\n",
       "<p>8760 rows × 1 columns</p>\n",
       "</div>"
      ],
      "text/plain": [
       "                  pm2.5\n",
       "date                   \n",
       "01-01-2018 00:00    5.6\n",
       "01-01-2018 01:00    1.6\n",
       "01-01-2018 02:00    1.7\n",
       "01-01-2018 03:00    0.8\n",
       "01-01-2018 04:00    2.3\n",
       "...                 ...\n",
       "31-12-2018 19:00    8.8\n",
       "31-12-2018 20:00    8.1\n",
       "31-12-2018 21:00    8.9\n",
       "31-12-2018 22:00    7.4\n",
       "31-12-2018 23:00    7.9\n",
       "\n",
       "[8760 rows x 1 columns]"
      ]
     },
     "execution_count": 4,
     "metadata": {},
     "output_type": "execute_result"
    }
   ],
   "source": [
    "df.drop(df.iloc[:, 0:7], inplace = True, axis = 1) #This line removes the columns not required by us to predict in a univariate time series field\n",
    "df.drop(df.tail(6).index, inplace = True) # Dropping the unnecesary additional imformation at the tail.\n",
    "df"
   ]
  },
  {
   "cell_type": "code",
   "execution_count": 5,
   "metadata": {
    "executionInfo": {
     "elapsed": 97,
     "status": "ok",
     "timestamp": 1639715850449,
     "user": {
      "displayName": "Ashish Jha",
      "photoUrl": "https://lh3.googleusercontent.com/a-/AOh14Gh-ozBKE0He1qH4ZZ94HRMt241gIELK_ULLP7n1Mw=s64",
      "userId": "09828439102845854314"
     },
     "user_tz": -330
    },
    "id": "agtLk7dO5SsM"
   },
   "outputs": [],
   "source": [
    "# df.head()"
   ]
  },
  {
   "cell_type": "code",
   "execution_count": 6,
   "metadata": {
    "executionInfo": {
     "elapsed": 104,
     "status": "ok",
     "timestamp": 1639715850457,
     "user": {
      "displayName": "Ashish Jha",
      "photoUrl": "https://lh3.googleusercontent.com/a-/AOh14Gh-ozBKE0He1qH4ZZ94HRMt241gIELK_ULLP7n1Mw=s64",
      "userId": "09828439102845854314"
     },
     "user_tz": -330
    },
    "id": "yYNKGGr2qVgZ"
   },
   "outputs": [],
   "source": [
    "# df.tail(10)"
   ]
  },
  {
   "cell_type": "code",
   "execution_count": 7,
   "metadata": {
    "executionInfo": {
     "elapsed": 104,
     "status": "ok",
     "timestamp": 1639715850458,
     "user": {
      "displayName": "Ashish Jha",
      "photoUrl": "https://lh3.googleusercontent.com/a-/AOh14Gh-ozBKE0He1qH4ZZ94HRMt241gIELK_ULLP7n1Mw=s64",
      "userId": "09828439102845854314"
     },
     "user_tz": -330
    },
    "id": "34VtQh9iqVga"
   },
   "outputs": [],
   "source": [
    "# df.info()"
   ]
  },
  {
   "cell_type": "code",
   "execution_count": 8,
   "metadata": {
    "executionInfo": {
     "elapsed": 105,
     "status": "ok",
     "timestamp": 1639715850460,
     "user": {
      "displayName": "Ashish Jha",
      "photoUrl": "https://lh3.googleusercontent.com/a-/AOh14Gh-ozBKE0He1qH4ZZ94HRMt241gIELK_ULLP7n1Mw=s64",
      "userId": "09828439102845854314"
     },
     "user_tz": -330
    },
    "id": "wE1-ZHbaqVgd"
   },
   "outputs": [],
   "source": [
    "# print(\"Rows    :\" ,df.shape[0])\n",
    "# print(\"columns :\" ,df.shape[1])\n",
    "# print(\"\\nFeatures :\", df.columns.tolist())\n",
    "# print(\"\\nMissing Values :\",df.isnull().any())\n",
    "# print(\"\\nUnique Values :\",df.nunique())"
   ]
  },
  {
   "cell_type": "code",
   "execution_count": 9,
   "metadata": {
    "colab": {
     "base_uri": "https://localhost:8080/"
    },
    "executionInfo": {
     "elapsed": 106,
     "status": "ok",
     "timestamp": 1639715850461,
     "user": {
      "displayName": "Ashish Jha",
      "photoUrl": "https://lh3.googleusercontent.com/a-/AOh14Gh-ozBKE0He1qH4ZZ94HRMt241gIELK_ULLP7n1Mw=s64",
      "userId": "09828439102845854314"
     },
     "user_tz": -330
    },
    "id": "PjA2hoqeqVgf",
    "outputId": "d938434f-967a-4a6e-81f1-e5c88ec48d44"
   },
   "outputs": [
    {
     "data": {
      "text/plain": [
       "pm2.5    742\n",
       "dtype: int64"
      ]
     },
     "execution_count": 9,
     "metadata": {},
     "output_type": "execute_result"
    }
   ],
   "source": [
    "df.isnull().sum() #The total number of pm2.5 values which are zero actually "
   ]
  },
  {
   "cell_type": "code",
   "execution_count": 10,
   "metadata": {
    "colab": {
     "base_uri": "https://localhost:8080/",
     "height": 455
    },
    "executionInfo": {
     "elapsed": 97,
     "status": "ok",
     "timestamp": 1639715850462,
     "user": {
      "displayName": "Ashish Jha",
      "photoUrl": "https://lh3.googleusercontent.com/a-/AOh14Gh-ozBKE0He1qH4ZZ94HRMt241gIELK_ULLP7n1Mw=s64",
      "userId": "09828439102845854314"
     },
     "user_tz": -330
    },
    "id": "iG9rLsisqVgj",
    "outputId": "249820ec-8bc9-4ecb-9730-1f5687ceaa78"
   },
   "outputs": [
    {
     "data": {
      "text/html": [
       "<div>\n",
       "<style scoped>\n",
       "    .dataframe tbody tr th:only-of-type {\n",
       "        vertical-align: middle;\n",
       "    }\n",
       "\n",
       "    .dataframe tbody tr th {\n",
       "        vertical-align: top;\n",
       "    }\n",
       "\n",
       "    .dataframe thead th {\n",
       "        text-align: right;\n",
       "    }\n",
       "</style>\n",
       "<table border=\"1\" class=\"dataframe\">\n",
       "  <thead>\n",
       "    <tr style=\"text-align: right;\">\n",
       "      <th></th>\n",
       "      <th>pm2.5</th>\n",
       "    </tr>\n",
       "    <tr>\n",
       "      <th>date</th>\n",
       "      <th></th>\n",
       "    </tr>\n",
       "  </thead>\n",
       "  <tbody>\n",
       "    <tr>\n",
       "      <th>02-01-2018 21:00</th>\n",
       "      <td>NaN</td>\n",
       "    </tr>\n",
       "    <tr>\n",
       "      <th>03-01-2018 00:00</th>\n",
       "      <td>NaN</td>\n",
       "    </tr>\n",
       "    <tr>\n",
       "      <th>15-01-2018 00:00</th>\n",
       "      <td>NaN</td>\n",
       "    </tr>\n",
       "    <tr>\n",
       "      <th>21-01-2018 15:00</th>\n",
       "      <td>NaN</td>\n",
       "    </tr>\n",
       "    <tr>\n",
       "      <th>01-02-2018 10:00</th>\n",
       "      <td>NaN</td>\n",
       "    </tr>\n",
       "    <tr>\n",
       "      <th>...</th>\n",
       "      <td>...</td>\n",
       "    </tr>\n",
       "    <tr>\n",
       "      <th>13-09-2018 12:00</th>\n",
       "      <td>NaN</td>\n",
       "    </tr>\n",
       "    <tr>\n",
       "      <th>13-09-2018 13:00</th>\n",
       "      <td>NaN</td>\n",
       "    </tr>\n",
       "    <tr>\n",
       "      <th>13-09-2018 14:00</th>\n",
       "      <td>NaN</td>\n",
       "    </tr>\n",
       "    <tr>\n",
       "      <th>11-11-2018 10:00</th>\n",
       "      <td>NaN</td>\n",
       "    </tr>\n",
       "    <tr>\n",
       "      <th>15-11-2018 11:00</th>\n",
       "      <td>NaN</td>\n",
       "    </tr>\n",
       "  </tbody>\n",
       "</table>\n",
       "<p>742 rows × 1 columns</p>\n",
       "</div>"
      ],
      "text/plain": [
       "                  pm2.5\n",
       "date                   \n",
       "02-01-2018 21:00    NaN\n",
       "03-01-2018 00:00    NaN\n",
       "15-01-2018 00:00    NaN\n",
       "21-01-2018 15:00    NaN\n",
       "01-02-2018 10:00    NaN\n",
       "...                 ...\n",
       "13-09-2018 12:00    NaN\n",
       "13-09-2018 13:00    NaN\n",
       "13-09-2018 14:00    NaN\n",
       "11-11-2018 10:00    NaN\n",
       "15-11-2018 11:00    NaN\n",
       "\n",
       "[742 rows x 1 columns]"
      ]
     },
     "execution_count": 10,
     "metadata": {},
     "output_type": "execute_result"
    }
   ],
   "source": [
    "df[df['pm2.5'].isnull()] #Listing all the nan values of pm2.5"
   ]
  },
  {
   "cell_type": "code",
   "execution_count": 11,
   "metadata": {
    "executionInfo": {
     "elapsed": 97,
     "status": "ok",
     "timestamp": 1639715850464,
     "user": {
      "displayName": "Ashish Jha",
      "photoUrl": "https://lh3.googleusercontent.com/a-/AOh14Gh-ozBKE0He1qH4ZZ94HRMt241gIELK_ULLP7n1Mw=s64",
      "userId": "09828439102845854314"
     },
     "user_tz": -330
    },
    "id": "VZU4klmaqVgl"
   },
   "outputs": [],
   "source": [
    "# df[df['pm2.5'].isnull()].count()"
   ]
  },
  {
   "cell_type": "code",
   "execution_count": 12,
   "metadata": {
    "colab": {
     "base_uri": "https://localhost:8080/",
     "height": 457
    },
    "executionInfo": {
     "elapsed": 97,
     "status": "ok",
     "timestamp": 1639715850465,
     "user": {
      "displayName": "Ashish Jha",
      "photoUrl": "https://lh3.googleusercontent.com/a-/AOh14Gh-ozBKE0He1qH4ZZ94HRMt241gIELK_ULLP7n1Mw=s64",
      "userId": "09828439102845854314"
     },
     "user_tz": -330
    },
    "id": "hziK0VuOqVgm",
    "outputId": "a5a1015c-0af0-4714-da66-830415ac9310"
   },
   "outputs": [
    {
     "data": {
      "text/html": [
       "<div>\n",
       "<style scoped>\n",
       "    .dataframe tbody tr th:only-of-type {\n",
       "        vertical-align: middle;\n",
       "    }\n",
       "\n",
       "    .dataframe tbody tr th {\n",
       "        vertical-align: top;\n",
       "    }\n",
       "\n",
       "    .dataframe thead th {\n",
       "        text-align: right;\n",
       "    }\n",
       "</style>\n",
       "<table border=\"1\" class=\"dataframe\">\n",
       "  <thead>\n",
       "    <tr style=\"text-align: right;\">\n",
       "      <th></th>\n",
       "      <th>pm2.5</th>\n",
       "    </tr>\n",
       "    <tr>\n",
       "      <th>date</th>\n",
       "      <th></th>\n",
       "    </tr>\n",
       "  </thead>\n",
       "  <tbody>\n",
       "    <tr>\n",
       "      <th>31-12-2018 12:00</th>\n",
       "      <td>9.2</td>\n",
       "    </tr>\n",
       "    <tr>\n",
       "      <th>31-12-2018 13:00</th>\n",
       "      <td>9.6</td>\n",
       "    </tr>\n",
       "    <tr>\n",
       "      <th>31-12-2018 14:00</th>\n",
       "      <td>8.1</td>\n",
       "    </tr>\n",
       "    <tr>\n",
       "      <th>31-12-2018 15:00</th>\n",
       "      <td>8.7</td>\n",
       "    </tr>\n",
       "    <tr>\n",
       "      <th>31-12-2018 16:00</th>\n",
       "      <td>5.3</td>\n",
       "    </tr>\n",
       "    <tr>\n",
       "      <th>31-12-2018 17:00</th>\n",
       "      <td>9.9</td>\n",
       "    </tr>\n",
       "    <tr>\n",
       "      <th>31-12-2018 18:00</th>\n",
       "      <td>16.3</td>\n",
       "    </tr>\n",
       "    <tr>\n",
       "      <th>31-12-2018 19:00</th>\n",
       "      <td>8.8</td>\n",
       "    </tr>\n",
       "    <tr>\n",
       "      <th>31-12-2018 20:00</th>\n",
       "      <td>8.1</td>\n",
       "    </tr>\n",
       "    <tr>\n",
       "      <th>31-12-2018 21:00</th>\n",
       "      <td>8.9</td>\n",
       "    </tr>\n",
       "    <tr>\n",
       "      <th>31-12-2018 22:00</th>\n",
       "      <td>7.4</td>\n",
       "    </tr>\n",
       "    <tr>\n",
       "      <th>31-12-2018 23:00</th>\n",
       "      <td>7.9</td>\n",
       "    </tr>\n",
       "  </tbody>\n",
       "</table>\n",
       "</div>"
      ],
      "text/plain": [
       "                  pm2.5\n",
       "date                   \n",
       "31-12-2018 12:00    9.2\n",
       "31-12-2018 13:00    9.6\n",
       "31-12-2018 14:00    8.1\n",
       "31-12-2018 15:00    8.7\n",
       "31-12-2018 16:00    5.3\n",
       "31-12-2018 17:00    9.9\n",
       "31-12-2018 18:00   16.3\n",
       "31-12-2018 19:00    8.8\n",
       "31-12-2018 20:00    8.1\n",
       "31-12-2018 21:00    8.9\n",
       "31-12-2018 22:00    7.4\n",
       "31-12-2018 23:00    7.9"
      ]
     },
     "execution_count": 12,
     "metadata": {},
     "output_type": "execute_result"
    }
   ],
   "source": [
    "df.tail(12)"
   ]
  },
  {
   "cell_type": "code",
   "execution_count": 13,
   "metadata": {
    "executionInfo": {
     "elapsed": 98,
     "status": "ok",
     "timestamp": 1639715850467,
     "user": {
      "displayName": "Ashish Jha",
      "photoUrl": "https://lh3.googleusercontent.com/a-/AOh14Gh-ozBKE0He1qH4ZZ94HRMt241gIELK_ULLP7n1Mw=s64",
      "userId": "09828439102845854314"
     },
     "user_tz": -330
    },
    "id": "f2JR78OrqVgo"
   },
   "outputs": [],
   "source": [
    "# df"
   ]
  },
  {
   "cell_type": "code",
   "execution_count": 14,
   "metadata": {
    "executionInfo": {
     "elapsed": 99,
     "status": "ok",
     "timestamp": 1639715850469,
     "user": {
      "displayName": "Ashish Jha",
      "photoUrl": "https://lh3.googleusercontent.com/a-/AOh14Gh-ozBKE0He1qH4ZZ94HRMt241gIELK_ULLP7n1Mw=s64",
      "userId": "09828439102845854314"
     },
     "user_tz": -330
    },
    "id": "AF6g0At3qVgp"
   },
   "outputs": [],
   "source": [
    "\n",
    "# import plotly.express as px\n",
    "# fig = px.line(df, y='pm2.5', title='pm2.5 with slider')\n",
    "\n",
    "# fig.update_xaxes(\n",
    "#     rangeslider_visible = True,\n",
    "#     rangeselector=dict(\n",
    "#         buttons=list([\n",
    "#             dict(step=\"all\")\n",
    "#         ]\n",
    "#         )))  \n",
    "# fig.show()"
   ]
  },
  {
   "cell_type": "code",
   "execution_count": 15,
   "metadata": {
    "colab": {
     "base_uri": "https://localhost:8080/",
     "height": 405
    },
    "executionInfo": {
     "elapsed": 100,
     "status": "ok",
     "timestamp": 1639715850470,
     "user": {
      "displayName": "Ashish Jha",
      "photoUrl": "https://lh3.googleusercontent.com/a-/AOh14Gh-ozBKE0He1qH4ZZ94HRMt241gIELK_ULLP7n1Mw=s64",
      "userId": "09828439102845854314"
     },
     "user_tz": -330
    },
    "id": "b1h7L_TG5tJK",
    "outputId": "c1f5cf7c-a14b-4fb4-d80a-87eab432cc41"
   },
   "outputs": [
    {
     "data": {
      "text/plain": [
       "<AxesSubplot:xlabel='date'>"
      ]
     },
     "execution_count": 15,
     "metadata": {},
     "output_type": "execute_result"
    },
    {
     "data": {
      "image/png": "[encoded data removed]",
      "text/plain": [
       "<Figure size 864x432 with 1 Axes>"
      ]
     },
     "metadata": {
      "needs_background": "light"
     },
     "output_type": "display_data"
    }
   ],
   "source": [
    "df.plot(y='pm2.5', figsize=(12,6))"
   ]
  },
  {
   "cell_type": "code",
   "execution_count": 16,
   "metadata": {
    "executionInfo": {
     "elapsed": 93,
     "status": "ok",
     "timestamp": 1639715850471,
     "user": {
      "displayName": "Ashish Jha",
      "photoUrl": "https://lh3.googleusercontent.com/a-/AOh14Gh-ozBKE0He1qH4ZZ94HRMt241gIELK_ULLP7n1Mw=s64",
      "userId": "09828439102845854314"
     },
     "user_tz": -330
    },
    "id": "_SSyjXQ0qVgs"
   },
   "outputs": [],
   "source": [
    "# df = df.set_index['date']"
   ]
  },
  {
   "cell_type": "code",
   "execution_count": 17,
   "metadata": {
    "colab": {
     "base_uri": "https://localhost:8080/",
     "height": 455
    },
    "executionInfo": {
     "elapsed": 93,
     "status": "ok",
     "timestamp": 1639715850473,
     "user": {
      "displayName": "Ashish Jha",
      "photoUrl": "https://lh3.googleusercontent.com/a-/AOh14Gh-ozBKE0He1qH4ZZ94HRMt241gIELK_ULLP7n1Mw=s64",
      "userId": "09828439102845854314"
     },
     "user_tz": -330
    },
    "id": "cKHd9MGBqVgt",
    "outputId": "f0b3ac24-79b4-49c2-f8c4-b9c3d921be5b"
   },
   "outputs": [
    {
     "data": {
      "text/html": [
       "<div>\n",
       "<style scoped>\n",
       "    .dataframe tbody tr th:only-of-type {\n",
       "        vertical-align: middle;\n",
       "    }\n",
       "\n",
       "    .dataframe tbody tr th {\n",
       "        vertical-align: top;\n",
       "    }\n",
       "\n",
       "    .dataframe thead th {\n",
       "        text-align: right;\n",
       "    }\n",
       "</style>\n",
       "<table border=\"1\" class=\"dataframe\">\n",
       "  <thead>\n",
       "    <tr style=\"text-align: right;\">\n",
       "      <th></th>\n",
       "      <th>pm2.5</th>\n",
       "    </tr>\n",
       "    <tr>\n",
       "      <th>date</th>\n",
       "      <th></th>\n",
       "    </tr>\n",
       "  </thead>\n",
       "  <tbody>\n",
       "    <tr>\n",
       "      <th>01-01-2018 00:00</th>\n",
       "      <td>5.6</td>\n",
       "    </tr>\n",
       "    <tr>\n",
       "      <th>01-01-2018 01:00</th>\n",
       "      <td>1.6</td>\n",
       "    </tr>\n",
       "    <tr>\n",
       "      <th>01-01-2018 02:00</th>\n",
       "      <td>1.7</td>\n",
       "    </tr>\n",
       "    <tr>\n",
       "      <th>01-01-2018 03:00</th>\n",
       "      <td>0.8</td>\n",
       "    </tr>\n",
       "    <tr>\n",
       "      <th>01-01-2018 04:00</th>\n",
       "      <td>2.3</td>\n",
       "    </tr>\n",
       "    <tr>\n",
       "      <th>...</th>\n",
       "      <td>...</td>\n",
       "    </tr>\n",
       "    <tr>\n",
       "      <th>31-01-2018 20:00</th>\n",
       "      <td>2.6</td>\n",
       "    </tr>\n",
       "    <tr>\n",
       "      <th>31-01-2018 21:00</th>\n",
       "      <td>4.3</td>\n",
       "    </tr>\n",
       "    <tr>\n",
       "      <th>31-01-2018 22:00</th>\n",
       "      <td>3.5</td>\n",
       "    </tr>\n",
       "    <tr>\n",
       "      <th>31-01-2018 23:00</th>\n",
       "      <td>1.7</td>\n",
       "    </tr>\n",
       "    <tr>\n",
       "      <th>01-02-2018 00:00</th>\n",
       "      <td>2.6</td>\n",
       "    </tr>\n",
       "  </tbody>\n",
       "</table>\n",
       "<p>745 rows × 1 columns</p>\n",
       "</div>"
      ],
      "text/plain": [
       "                  pm2.5\n",
       "date                   \n",
       "01-01-2018 00:00    5.6\n",
       "01-01-2018 01:00    1.6\n",
       "01-01-2018 02:00    1.7\n",
       "01-01-2018 03:00    0.8\n",
       "01-01-2018 04:00    2.3\n",
       "...                 ...\n",
       "31-01-2018 20:00    2.6\n",
       "31-01-2018 21:00    4.3\n",
       "31-01-2018 22:00    3.5\n",
       "31-01-2018 23:00    1.7\n",
       "01-02-2018 00:00    2.6\n",
       "\n",
       "[745 rows x 1 columns]"
      ]
     },
     "execution_count": 17,
     "metadata": {},
     "output_type": "execute_result"
    }
   ],
   "source": [
    "# df.loc['01-01-2018 00:00':'01-02-2018 00:00']\n",
    "df[0:745]"
   ]
  },
  {
   "cell_type": "code",
   "execution_count": 18,
   "metadata": {
    "colab": {
     "base_uri": "https://localhost:8080/",
     "height": 455
    },
    "executionInfo": {
     "elapsed": 93,
     "status": "ok",
     "timestamp": 1639715850475,
     "user": {
      "displayName": "Ashish Jha",
      "photoUrl": "https://lh3.googleusercontent.com/a-/AOh14Gh-ozBKE0He1qH4ZZ94HRMt241gIELK_ULLP7n1Mw=s64",
      "userId": "09828439102845854314"
     },
     "user_tz": -330
    },
    "id": "mjmpDgRIqVgu",
    "outputId": "14544c79-9772-45a7-97f7-a21658138f08"
   },
   "outputs": [
    {
     "data": {
      "text/html": [
       "<div>\n",
       "<style scoped>\n",
       "    .dataframe tbody tr th:only-of-type {\n",
       "        vertical-align: middle;\n",
       "    }\n",
       "\n",
       "    .dataframe tbody tr th {\n",
       "        vertical-align: top;\n",
       "    }\n",
       "\n",
       "    .dataframe thead th {\n",
       "        text-align: right;\n",
       "    }\n",
       "</style>\n",
       "<table border=\"1\" class=\"dataframe\">\n",
       "  <thead>\n",
       "    <tr style=\"text-align: right;\">\n",
       "      <th></th>\n",
       "      <th>pm2.5</th>\n",
       "    </tr>\n",
       "    <tr>\n",
       "      <th>date</th>\n",
       "      <th></th>\n",
       "    </tr>\n",
       "  </thead>\n",
       "  <tbody>\n",
       "    <tr>\n",
       "      <th>01-01-2018 00:00</th>\n",
       "      <td>5.6</td>\n",
       "    </tr>\n",
       "    <tr>\n",
       "      <th>01-01-2018 01:00</th>\n",
       "      <td>1.6</td>\n",
       "    </tr>\n",
       "    <tr>\n",
       "      <th>01-01-2018 02:00</th>\n",
       "      <td>1.7</td>\n",
       "    </tr>\n",
       "    <tr>\n",
       "      <th>01-01-2018 03:00</th>\n",
       "      <td>0.8</td>\n",
       "    </tr>\n",
       "    <tr>\n",
       "      <th>01-01-2018 04:00</th>\n",
       "      <td>2.3</td>\n",
       "    </tr>\n",
       "    <tr>\n",
       "      <th>...</th>\n",
       "      <td>...</td>\n",
       "    </tr>\n",
       "    <tr>\n",
       "      <th>31-12-2018 19:00</th>\n",
       "      <td>8.8</td>\n",
       "    </tr>\n",
       "    <tr>\n",
       "      <th>31-12-2018 20:00</th>\n",
       "      <td>8.1</td>\n",
       "    </tr>\n",
       "    <tr>\n",
       "      <th>31-12-2018 21:00</th>\n",
       "      <td>8.9</td>\n",
       "    </tr>\n",
       "    <tr>\n",
       "      <th>31-12-2018 22:00</th>\n",
       "      <td>7.4</td>\n",
       "    </tr>\n",
       "    <tr>\n",
       "      <th>31-12-2018 23:00</th>\n",
       "      <td>7.9</td>\n",
       "    </tr>\n",
       "  </tbody>\n",
       "</table>\n",
       "<p>8018 rows × 1 columns</p>\n",
       "</div>"
      ],
      "text/plain": [
       "                  pm2.5\n",
       "date                   \n",
       "01-01-2018 00:00    5.6\n",
       "01-01-2018 01:00    1.6\n",
       "01-01-2018 02:00    1.7\n",
       "01-01-2018 03:00    0.8\n",
       "01-01-2018 04:00    2.3\n",
       "...                 ...\n",
       "31-12-2018 19:00    8.8\n",
       "31-12-2018 20:00    8.1\n",
       "31-12-2018 21:00    8.9\n",
       "31-12-2018 22:00    7.4\n",
       "31-12-2018 23:00    7.9\n",
       "\n",
       "[8018 rows x 1 columns]"
      ]
     },
     "execution_count": 18,
     "metadata": {},
     "output_type": "execute_result"
    }
   ],
   "source": [
    "df_na = df.copy()\n",
    "# df_na = df_na.dropna()\n",
    "df_na = df_na.dropna(subset=['pm2.5']) # we use this to drop the nan values we could have interpolate the null fiels but it will not have a large impact on the data \n",
    "df_na"
   ]
  },
  {
   "cell_type": "code",
   "execution_count": 19,
   "metadata": {
    "colab": {
     "base_uri": "https://localhost:8080/",
     "height": 405
    },
    "executionInfo": {
     "elapsed": 1664,
     "status": "ok",
     "timestamp": 1639715852048,
     "user": {
      "displayName": "Ashish Jha",
      "photoUrl": "https://lh3.googleusercontent.com/a-/AOh14Gh-ozBKE0He1qH4ZZ94HRMt241gIELK_ULLP7n1Mw=s64",
      "userId": "09828439102845854314"
     },
     "user_tz": -330
    },
    "id": "JgjUDpaBqVgw",
    "outputId": "89caa332-d66a-44ca-86db-be85d7cfbe68",
    "scrolled": true
   },
   "outputs": [
    {
     "data": {
      "text/plain": [
       "<AxesSubplot:xlabel='date'>"
      ]
     },
     "execution_count": 19,
     "metadata": {},
     "output_type": "execute_result"
    },
    {
     "data": {
      "image/png": "[encoded data removed]",
      "text/plain": [
       "<Figure size 864x432 with 1 Axes>"
      ]
     },
     "metadata": {
      "needs_background": "light"
     },
     "output_type": "display_data"
    }
   ],
   "source": [
    "df_na.plot(figsize=(12,6),y='pm2.5')"
   ]
  },
  {
   "cell_type": "markdown",
   "metadata": {
    "id": "EJrjDpG7qVgx"
   },
   "source": [
    " ### Now we will check for autocorrelation to know for seasonality "
   ]
  },
  {
   "cell_type": "code",
   "execution_count": 20,
   "metadata": {
    "colab": {
     "base_uri": "https://localhost:8080/",
     "height": 312
    },
    "executionInfo": {
     "elapsed": 145,
     "status": "ok",
     "timestamp": 1639715852051,
     "user": {
      "displayName": "Ashish Jha",
      "photoUrl": "https://lh3.googleusercontent.com/a-/AOh14Gh-ozBKE0He1qH4ZZ94HRMt241gIELK_ULLP7n1Mw=s64",
      "userId": "09828439102845854314"
     },
     "user_tz": -330
    },
    "id": "C79ZpfJIqVgy",
    "outputId": "5b92e63a-75aa-4775-d0ce-614a75284df1"
   },
   "outputs": [
    {
     "name": "stdout",
     "output_type": "stream",
     "text": [
      "The Autocorrelation plot for the data is:\n"
     ]
    },
    {
     "data": {
      "image/png": "[encoded data removed]",
      "text/plain": [
       "<Figure size 432x288 with 1 Axes>"
      ]
     },
     "metadata": {
      "needs_background": "light"
     },
     "output_type": "display_data"
    }
   ],
   "source": [
    "# pd.plotting.autocorrelation_plot(df_na['01-01-2018 00:00':'31-12-2018 23:00']['pm2.5'])\n",
    "plt.title(\"Autocorrelation Plot\")\n",
    " \n",
    "# Providing x-axis name.\n",
    "plt.xlabel(\"Lags\")\n",
    " \n",
    "# Plotting the Autocorrelation plot.\n",
    "plt.acorr(df_na['pm2.5'], maxlags = 5)\n",
    " \n",
    "# Displaying the plot.\n",
    "print(\"The Autocorrelation plot for the data is:\")\n",
    "plt.grid(True)\n",
    " \n",
    "plt.show()"
   ]
  },
  {
   "cell_type": "code",
   "execution_count": 21,
   "metadata": {
    "executionInfo": {
     "elapsed": 125,
     "status": "ok",
     "timestamp": 1639715852054,
     "user": {
      "displayName": "Ashish Jha",
      "photoUrl": "https://lh3.googleusercontent.com/a-/AOh14Gh-ozBKE0He1qH4ZZ94HRMt241gIELK_ULLP7n1Mw=s64",
      "userId": "09828439102845854314"
     },
     "user_tz": -330
    },
    "id": "NFtrMqwPqVg0"
   },
   "outputs": [],
   "source": [
    "# df_na = pd.DataFrame(\n",
    "#         {'Hours': pd.date_range('01-01-2018 00:00', '31-12-2018 23:00', freq='1H', closed='left')}\n",
    "#      )\n",
    "# df_na.head()\n",
    "# df_na.tail()\n",
    "\n",
    "# df_na.drop(df_na.tail(4).index,\n",
    "#         inplace = True)\n",
    "df_na\n",
    "df_na.index.freq='H'"
   ]
  },
  {
   "cell_type": "code",
   "execution_count": 22,
   "metadata": {
    "colab": {
     "base_uri": "https://localhost:8080/",
     "height": 296
    },
    "executionInfo": {
     "elapsed": 125,
     "status": "ok",
     "timestamp": 1639715852056,
     "user": {
      "displayName": "Ashish Jha",
      "photoUrl": "https://lh3.googleusercontent.com/a-/AOh14Gh-ozBKE0He1qH4ZZ94HRMt241gIELK_ULLP7n1Mw=s64",
      "userId": "09828439102845854314"
     },
     "user_tz": -330
    },
    "id": "pQ1vIjpnqVg1",
    "outputId": "6c6927fb-29f5-4ba8-dce1-d196e1bae769"
   },
   "outputs": [
    {
     "data": {
      "text/plain": [
       "<AxesSubplot:xlabel='y(t)', ylabel='y(t + 1)'>"
      ]
     },
     "execution_count": 22,
     "metadata": {},
     "output_type": "execute_result"
    },
    {
     "data": {
      "image/png": "[encoded data removed]",
      "text/plain": [
       "<Figure size 432x288 with 1 Axes>"
      ]
     },
     "metadata": {
      "needs_background": "light"
     },
     "output_type": "display_data"
    }
   ],
   "source": [
    "pd.plotting.lag_plot(df_na,lag=1)"
   ]
  },
  {
   "cell_type": "code",
   "execution_count": 23,
   "metadata": {
    "colab": {
     "base_uri": "https://localhost:8080/",
     "height": 296
    },
    "executionInfo": {
     "elapsed": 114,
     "status": "ok",
     "timestamp": 1639715852058,
     "user": {
      "displayName": "Ashish Jha",
      "photoUrl": "https://lh3.googleusercontent.com/a-/AOh14Gh-ozBKE0He1qH4ZZ94HRMt241gIELK_ULLP7n1Mw=s64",
      "userId": "09828439102845854314"
     },
     "user_tz": -330
    },
    "id": "S_e2s6LjqVg2",
    "outputId": "813005dd-bc67-426f-aa99-575ade2e3657"
   },
   "outputs": [
    {
     "data": {
      "text/plain": [
       "<AxesSubplot:xlabel='y(t)', ylabel='y(t + 3)'>"
      ]
     },
     "execution_count": 23,
     "metadata": {},
     "output_type": "execute_result"
    },
    {
     "data": {
      "image/png": "[encoded data removed]",
      "text/plain": [
       "<Figure size 432x288 with 1 Axes>"
      ]
     },
     "metadata": {
      "needs_background": "light"
     },
     "output_type": "display_data"
    }
   ],
   "source": [
    "pd.plotting.lag_plot(df_na['pm2.5'],lag=3)"
   ]
  },
  {
   "cell_type": "code",
   "execution_count": 24,
   "metadata": {
    "colab": {
     "base_uri": "https://localhost:8080/",
     "height": 296
    },
    "executionInfo": {
     "elapsed": 104,
     "status": "ok",
     "timestamp": 1639715852060,
     "user": {
      "displayName": "Ashish Jha",
      "photoUrl": "https://lh3.googleusercontent.com/a-/AOh14Gh-ozBKE0He1qH4ZZ94HRMt241gIELK_ULLP7n1Mw=s64",
      "userId": "09828439102845854314"
     },
     "user_tz": -330
    },
    "id": "BXJL5Zh1qVg3",
    "outputId": "a20eec15-3736-45d2-b9fb-0da7dc8a1a38"
   },
   "outputs": [
    {
     "data": {
      "text/plain": [
       "<AxesSubplot:xlabel='y(t)', ylabel='y(t + 24)'>"
      ]
     },
     "execution_count": 24,
     "metadata": {},
     "output_type": "execute_result"
    },
    {
     "data": {
      "image/png": "[encoded data removed]",
      "text/plain": [
       "<Figure size 432x288 with 1 Axes>"
      ]
     },
     "metadata": {
      "needs_background": "light"
     },
     "output_type": "display_data"
    }
   ],
   "source": [
    "pd.plotting.lag_plot(df_na['pm2.5'],lag=24)"
   ]
  },
  {
   "cell_type": "code",
   "execution_count": 25,
   "metadata": {
    "colab": {
     "base_uri": "https://localhost:8080/",
     "height": 296
    },
    "executionInfo": {
     "elapsed": 92,
     "status": "ok",
     "timestamp": 1639715852061,
     "user": {
      "displayName": "Ashish Jha",
      "photoUrl": "https://lh3.googleusercontent.com/a-/AOh14Gh-ozBKE0He1qH4ZZ94HRMt241gIELK_ULLP7n1Mw=s64",
      "userId": "09828439102845854314"
     },
     "user_tz": -330
    },
    "id": "tOQEREKpqVg4",
    "outputId": "925eedd0-c19e-4f15-c132-5327c7166fce"
   },
   "outputs": [
    {
     "data": {
      "text/plain": [
       "<AxesSubplot:xlabel='y(t)', ylabel='y(t + 48)'>"
      ]
     },
     "execution_count": 25,
     "metadata": {},
     "output_type": "execute_result"
    },
    {
     "data": {
      "image/png": "[encoded data removed]",
      "text/plain": [
       "<Figure size 432x288 with 1 Axes>"
      ]
     },
     "metadata": {
      "needs_background": "light"
     },
     "output_type": "display_data"
    }
   ],
   "source": [
    "pd.plotting.lag_plot(df_na['pm2.5'],lag=48)"
   ]
  },
  {
   "cell_type": "code",
   "execution_count": 26,
   "metadata": {
    "executionInfo": {
     "elapsed": 78,
     "status": "ok",
     "timestamp": 1639715852062,
     "user": {
      "displayName": "Ashish Jha",
      "photoUrl": "https://lh3.googleusercontent.com/a-/AOh14Gh-ozBKE0He1qH4ZZ94HRMt241gIELK_ULLP7n1Mw=s64",
      "userId": "09828439102845854314"
     },
     "user_tz": -330
    },
    "id": "jcew1g4f6L_X"
   },
   "outputs": [],
   "source": [
    "# from statsmodels.tsa.seasonal import seasonal_decompose"
   ]
  },
  {
   "cell_type": "code",
   "execution_count": 27,
   "metadata": {
    "executionInfo": {
     "elapsed": 79,
     "status": "ok",
     "timestamp": 1639715852064,
     "user": {
      "displayName": "Ashish Jha",
      "photoUrl": "https://lh3.googleusercontent.com/a-/AOh14Gh-ozBKE0He1qH4ZZ94HRMt241gIELK_ULLP7n1Mw=s64",
      "userId": "09828439102845854314"
     },
     "user_tz": -330
    },
    "id": "zfTZaeEH6Wpn"
   },
   "outputs": [],
   "source": [
    "# results = seasonal_decompose(df_na['pm2.5'])\n",
    "# results.plot();"
   ]
  },
  {
   "cell_type": "code",
   "execution_count": 28,
   "metadata": {
    "colab": {
     "base_uri": "https://localhost:8080/"
    },
    "executionInfo": {
     "elapsed": 78,
     "status": "ok",
     "timestamp": 1639715852065,
     "user": {
      "displayName": "Ashish Jha",
      "photoUrl": "https://lh3.googleusercontent.com/a-/AOh14Gh-ozBKE0He1qH4ZZ94HRMt241gIELK_ULLP7n1Mw=s64",
      "userId": "09828439102845854314"
     },
     "user_tz": -330
    },
    "id": "IzkqCHh_6lfn",
    "outputId": "4f1b1e10-4686-40fe-871f-ae8cb5cbb25f"
   },
   "outputs": [
    {
     "data": {
      "text/plain": [
       "8018"
      ]
     },
     "execution_count": 28,
     "metadata": {},
     "output_type": "execute_result"
    }
   ],
   "source": [
    "len(df_na)"
   ]
  },
  {
   "cell_type": "code",
   "execution_count": 29,
   "metadata": {
    "colab": {
     "base_uri": "https://localhost:8080/",
     "height": 455
    },
    "executionInfo": {
     "elapsed": 71,
     "status": "ok",
     "timestamp": 1639715852066,
     "user": {
      "displayName": "Ashish Jha",
      "photoUrl": "https://lh3.googleusercontent.com/a-/AOh14Gh-ozBKE0He1qH4ZZ94HRMt241gIELK_ULLP7n1Mw=s64",
      "userId": "09828439102845854314"
     },
     "user_tz": -330
    },
    "id": "pFJE6jcTqVg7",
    "outputId": "3862babb-54a2-44f6-8959-d6a4bde69013"
   },
   "outputs": [
    {
     "data": {
      "text/html": [
       "<div>\n",
       "<style scoped>\n",
       "    .dataframe tbody tr th:only-of-type {\n",
       "        vertical-align: middle;\n",
       "    }\n",
       "\n",
       "    .dataframe tbody tr th {\n",
       "        vertical-align: top;\n",
       "    }\n",
       "\n",
       "    .dataframe thead th {\n",
       "        text-align: right;\n",
       "    }\n",
       "</style>\n",
       "<table border=\"1\" class=\"dataframe\">\n",
       "  <thead>\n",
       "    <tr style=\"text-align: right;\">\n",
       "      <th></th>\n",
       "      <th>pm2.5</th>\n",
       "    </tr>\n",
       "    <tr>\n",
       "      <th>date</th>\n",
       "      <th></th>\n",
       "    </tr>\n",
       "  </thead>\n",
       "  <tbody>\n",
       "    <tr>\n",
       "      <th>01-01-2018 00:00</th>\n",
       "      <td>5.6</td>\n",
       "    </tr>\n",
       "    <tr>\n",
       "      <th>01-01-2018 01:00</th>\n",
       "      <td>1.6</td>\n",
       "    </tr>\n",
       "    <tr>\n",
       "      <th>01-01-2018 02:00</th>\n",
       "      <td>1.7</td>\n",
       "    </tr>\n",
       "    <tr>\n",
       "      <th>01-01-2018 03:00</th>\n",
       "      <td>0.8</td>\n",
       "    </tr>\n",
       "    <tr>\n",
       "      <th>01-01-2018 04:00</th>\n",
       "      <td>2.3</td>\n",
       "    </tr>\n",
       "    <tr>\n",
       "      <th>...</th>\n",
       "      <td>...</td>\n",
       "    </tr>\n",
       "    <tr>\n",
       "      <th>31-12-2018 19:00</th>\n",
       "      <td>8.8</td>\n",
       "    </tr>\n",
       "    <tr>\n",
       "      <th>31-12-2018 20:00</th>\n",
       "      <td>8.1</td>\n",
       "    </tr>\n",
       "    <tr>\n",
       "      <th>31-12-2018 21:00</th>\n",
       "      <td>8.9</td>\n",
       "    </tr>\n",
       "    <tr>\n",
       "      <th>31-12-2018 22:00</th>\n",
       "      <td>7.4</td>\n",
       "    </tr>\n",
       "    <tr>\n",
       "      <th>31-12-2018 23:00</th>\n",
       "      <td>7.9</td>\n",
       "    </tr>\n",
       "  </tbody>\n",
       "</table>\n",
       "<p>8018 rows × 1 columns</p>\n",
       "</div>"
      ],
      "text/plain": [
       "                  pm2.5\n",
       "date                   \n",
       "01-01-2018 00:00    5.6\n",
       "01-01-2018 01:00    1.6\n",
       "01-01-2018 02:00    1.7\n",
       "01-01-2018 03:00    0.8\n",
       "01-01-2018 04:00    2.3\n",
       "...                 ...\n",
       "31-12-2018 19:00    8.8\n",
       "31-12-2018 20:00    8.1\n",
       "31-12-2018 21:00    8.9\n",
       "31-12-2018 22:00    7.4\n",
       "31-12-2018 23:00    7.9\n",
       "\n",
       "[8018 rows x 1 columns]"
      ]
     },
     "execution_count": 29,
     "metadata": {},
     "output_type": "execute_result"
    }
   ],
   "source": [
    "df_na"
   ]
  },
  {
   "cell_type": "code",
   "execution_count": 30,
   "metadata": {
    "executionInfo": {
     "elapsed": 1105,
     "status": "ok",
     "timestamp": 1639715853102,
     "user": {
      "displayName": "Ashish Jha",
      "photoUrl": "https://lh3.googleusercontent.com/a-/AOh14Gh-ozBKE0He1qH4ZZ94HRMt241gIELK_ULLP7n1Mw=s64",
      "userId": "09828439102845854314"
     },
     "user_tz": -330
    },
    "id": "wHVt8vSXqVg8",
    "scrolled": true
   },
   "outputs": [],
   "source": [
    "# df_na.drop(columns =['Unnamed: 0', 'site', 'code','no2','no2_UT','pm10','pm10_UT'])\n",
    "# df_na.drop(df.iloc[:, 0:7], inplace = True, axis = 1)\n",
    "# df_na"
   ]
  },
  {
   "cell_type": "code",
   "execution_count": 31,
   "metadata": {
    "executionInfo": {
     "elapsed": 50,
     "status": "ok",
     "timestamp": 1639715853103,
     "user": {
      "displayName": "Ashish Jha",
      "photoUrl": "https://lh3.googleusercontent.com/a-/AOh14Gh-ozBKE0He1qH4ZZ94HRMt241gIELK_ULLP7n1Mw=s64",
      "userId": "09828439102845854314"
     },
     "user_tz": -330
    },
    "id": "dtAgIrE66u6x"
   },
   "outputs": [],
   "source": [
    "from sklearn.preprocessing import MinMaxScaler\n",
    "scaler = MinMaxScaler(feature_range=(0,1))\n",
    "df_na = scaler.fit_transform(np.array(df_na).reshape(-1,1))"
   ]
  },
  {
   "cell_type": "code",
   "execution_count": 32,
   "metadata": {
    "colab": {
     "base_uri": "https://localhost:8080/"
    },
    "executionInfo": {
     "elapsed": 50,
     "status": "ok",
     "timestamp": 1639715853104,
     "user": {
      "displayName": "Ashish Jha",
      "photoUrl": "https://lh3.googleusercontent.com/a-/AOh14Gh-ozBKE0He1qH4ZZ94HRMt241gIELK_ULLP7n1Mw=s64",
      "userId": "09828439102845854314"
     },
     "user_tz": -330
    },
    "id": "vVC3QAbdqVg9",
    "outputId": "9bfc3dab-c312-4d02-f72b-25ff1252e93a"
   },
   "outputs": [
    {
     "data": {
      "text/plain": [
       "array([[0.08181818],\n",
       "       [0.04876033],\n",
       "       [0.04958678],\n",
       "       ...,\n",
       "       [0.10909091],\n",
       "       [0.09669421],\n",
       "       [0.10082645]])"
      ]
     },
     "execution_count": 32,
     "metadata": {},
     "output_type": "execute_result"
    }
   ],
   "source": [
    "df_na"
   ]
  },
  {
   "cell_type": "code",
   "execution_count": 33,
   "metadata": {
    "executionInfo": {
     "elapsed": 49,
     "status": "ok",
     "timestamp": 1639715853105,
     "user": {
      "displayName": "Ashish Jha",
      "photoUrl": "https://lh3.googleusercontent.com/a-/AOh14Gh-ozBKE0He1qH4ZZ94HRMt241gIELK_ULLP7n1Mw=s64",
      "userId": "09828439102845854314"
     },
     "user_tz": -330
    },
    "id": "ZaWC5GiyqVg-"
   },
   "outputs": [],
   "source": [
    "train_data = df_na[0:7000] #splitting the sample data into train data \n",
    "test_data = df_na[7000:len(df_na),:1] #splitting sample data into test data "
   ]
  },
  {
   "cell_type": "code",
   "execution_count": 34,
   "metadata": {
    "colab": {
     "base_uri": "https://localhost:8080/"
    },
    "executionInfo": {
     "elapsed": 48,
     "status": "ok",
     "timestamp": 1639715853105,
     "user": {
      "displayName": "Ashish Jha",
      "photoUrl": "https://lh3.googleusercontent.com/a-/AOh14Gh-ozBKE0He1qH4ZZ94HRMt241gIELK_ULLP7n1Mw=s64",
      "userId": "09828439102845854314"
     },
     "user_tz": -330
    },
    "id": "VH9pTTlUqVg_",
    "outputId": "d130a9da-c091-4e26-8809-d65e00081828"
   },
   "outputs": [
    {
     "data": {
      "text/plain": [
       "(7000, 1018)"
      ]
     },
     "execution_count": 34,
     "metadata": {},
     "output_type": "execute_result"
    }
   ],
   "source": [
    "len(train_data),len(test_data)"
   ]
  },
  {
   "cell_type": "code",
   "execution_count": 35,
   "metadata": {
    "executionInfo": {
     "elapsed": 42,
     "status": "ok",
     "timestamp": 1639715853106,
     "user": {
      "displayName": "Ashish Jha",
      "photoUrl": "https://lh3.googleusercontent.com/a-/AOh14Gh-ozBKE0He1qH4ZZ94HRMt241gIELK_ULLP7n1Mw=s64",
      "userId": "09828439102845854314"
     },
     "user_tz": -330
    },
    "id": "hAm4CJyrqVhA"
   },
   "outputs": [],
   "source": [
    "\n",
    "# convert an array of values into a dataset matrix\n",
    "def create_dataset(dataset, time_step=1):\n",
    "\tdataX, dataY = [], []\n",
    "\tfor i in range(len(dataset)-time_step-1):\n",
    "\t\ta = dataset[i:(i+time_step), 0]   ###i=0, 0,1,2,3-----99   100 \n",
    "\t\tdataX.append(a)\n",
    "\t\tdataY.append(dataset[i + time_step, 0])\n",
    "\treturn np.array(dataX), np.array(dataY)"
   ]
  },
  {
   "cell_type": "code",
   "execution_count": 36,
   "metadata": {
    "executionInfo": {
     "elapsed": 42,
     "status": "ok",
     "timestamp": 1639715853107,
     "user": {
      "displayName": "Ashish Jha",
      "photoUrl": "https://lh3.googleusercontent.com/a-/AOh14Gh-ozBKE0He1qH4ZZ94HRMt241gIELK_ULLP7n1Mw=s64",
      "userId": "09828439102845854314"
     },
     "user_tz": -330
    },
    "id": "sSZ7xwsMqVhB"
   },
   "outputs": [],
   "source": [
    "# reshape into X=t,t+1,t+2,t+3 and Y=t+4\n",
    "time_step = 100 #the lag we will use to actually predict the next data point and to also set the model.\n",
    "X_train, y_train = create_dataset(train_data, time_step)\n",
    "X_test, y_test = create_dataset(test_data, time_step)"
   ]
  },
  {
   "cell_type": "code",
   "execution_count": 37,
   "metadata": {
    "colab": {
     "base_uri": "https://localhost:8080/"
    },
    "executionInfo": {
     "elapsed": 43,
     "status": "ok",
     "timestamp": 1639715853108,
     "user": {
      "displayName": "Ashish Jha",
      "photoUrl": "https://lh3.googleusercontent.com/a-/AOh14Gh-ozBKE0He1qH4ZZ94HRMt241gIELK_ULLP7n1Mw=s64",
      "userId": "09828439102845854314"
     },
     "user_tz": -330
    },
    "id": "2gFUZGf0qVhC",
    "outputId": "f22c2fc9-3e34-4e28-d265-09e2e4b074dc"
   },
   "outputs": [
    {
     "name": "stdout",
     "output_type": "stream",
     "text": [
      "[[0.08181818 0.04876033 0.04958678 ... 0.06280992 0.06115702 0.0677686 ]\n",
      " [0.04876033 0.04958678 0.04214876 ... 0.06115702 0.0677686  0.0785124 ]\n",
      " [0.04958678 0.04214876 0.05454545 ... 0.0677686  0.0785124  0.09504132]\n",
      " ...\n",
      " [0.1661157  0.1785124  0.20165289 ... 0.10247934 0.09008264 0.08760331]\n",
      " [0.1785124  0.20165289 0.18760331 ... 0.09008264 0.08760331 0.07355372]\n",
      " [0.20165289 0.18760331 0.19504132 ... 0.08760331 0.07355372 0.07603306]]\n"
     ]
    }
   ],
   "source": [
    "print(X_train)"
   ]
  },
  {
   "cell_type": "code",
   "execution_count": 38,
   "metadata": {
    "colab": {
     "base_uri": "https://localhost:8080/"
    },
    "executionInfo": {
     "elapsed": 37,
     "status": "ok",
     "timestamp": 1639715853108,
     "user": {
      "displayName": "Ashish Jha",
      "photoUrl": "https://lh3.googleusercontent.com/a-/AOh14Gh-ozBKE0He1qH4ZZ94HRMt241gIELK_ULLP7n1Mw=s64",
      "userId": "09828439102845854314"
     },
     "user_tz": -330
    },
    "id": "25NYzKYBqVhD",
    "outputId": "0bf150bf-764d-4617-e45e-d62beabc39c0"
   },
   "outputs": [
    {
     "name": "stdout",
     "output_type": "stream",
     "text": [
      "[[0.08181818 0.06280992 0.08842975 ... 0.18016529 0.22396694 0.24132231]\n",
      " [0.06280992 0.08842975 0.08099174 ... 0.22396694 0.24132231 0.27603306]\n",
      " [0.08842975 0.08099174 0.09669421 ... 0.24132231 0.27603306 0.30165289]\n",
      " ...\n",
      " [0.13471074 0.16859504 0.17520661 ... 0.11735537 0.17024793 0.10826446]\n",
      " [0.16859504 0.17520661 0.16694215 ... 0.17024793 0.10826446 0.10247934]\n",
      " [0.17520661 0.16694215 0.19008264 ... 0.10826446 0.10247934 0.10909091]]\n"
     ]
    }
   ],
   "source": [
    "print(X_test)"
   ]
  },
  {
   "cell_type": "code",
   "execution_count": 39,
   "metadata": {
    "colab": {
     "base_uri": "https://localhost:8080/"
    },
    "executionInfo": {
     "elapsed": 32,
     "status": "ok",
     "timestamp": 1639715853109,
     "user": {
      "displayName": "Ashish Jha",
      "photoUrl": "https://lh3.googleusercontent.com/a-/AOh14Gh-ozBKE0He1qH4ZZ94HRMt241gIELK_ULLP7n1Mw=s64",
      "userId": "09828439102845854314"
     },
     "user_tz": -330
    },
    "id": "UDQODrt4D5NK",
    "outputId": "9e31945f-45dc-4df7-a53b-ff90610224f2"
   },
   "outputs": [
    {
     "name": "stdout",
     "output_type": "stream",
     "text": [
      "(6899, 100)\n",
      "(6899,)\n"
     ]
    },
    {
     "data": {
      "text/plain": [
       "(None, None)"
      ]
     },
     "execution_count": 39,
     "metadata": {},
     "output_type": "execute_result"
    }
   ],
   "source": [
    "# df_na.head(),df_na.tail()\n",
    "print(X_train.shape), print(y_train.shape)"
   ]
  },
  {
   "cell_type": "code",
   "execution_count": 40,
   "metadata": {
    "colab": {
     "base_uri": "https://localhost:8080/"
    },
    "executionInfo": {
     "elapsed": 27,
     "status": "ok",
     "timestamp": 1639715853110,
     "user": {
      "displayName": "Ashish Jha",
      "photoUrl": "https://lh3.googleusercontent.com/a-/AOh14Gh-ozBKE0He1qH4ZZ94HRMt241gIELK_ULLP7n1Mw=s64",
      "userId": "09828439102845854314"
     },
     "user_tz": -330
    },
    "id": "0o-qPez5qVhE",
    "outputId": "6b231b91-5bb8-4e47-d117-eb2692117efb"
   },
   "outputs": [
    {
     "name": "stdout",
     "output_type": "stream",
     "text": [
      "(917, 100)\n",
      "(917,)\n"
     ]
    },
    {
     "data": {
      "text/plain": [
       "(None, None)"
      ]
     },
     "execution_count": 40,
     "metadata": {},
     "output_type": "execute_result"
    }
   ],
   "source": [
    "# df_na.head(),df_na.tail()\n",
    "print(X_test.shape), print(y_test.shape)"
   ]
  },
  {
   "cell_type": "markdown",
   "metadata": {
    "id": "Bg49XipVqVhF"
   },
   "source": [
    "### Creating stacked lstm"
   ]
  },
  {
   "cell_type": "code",
   "execution_count": 41,
   "metadata": {
    "executionInfo": {
     "elapsed": 23,
     "status": "ok",
     "timestamp": 1639715853112,
     "user": {
      "displayName": "Ashish Jha",
      "photoUrl": "https://lh3.googleusercontent.com/a-/AOh14Gh-ozBKE0He1qH4ZZ94HRMt241gIELK_ULLP7n1Mw=s64",
      "userId": "09828439102845854314"
     },
     "user_tz": -330
    },
    "id": "wn7cSAA-qVhG"
   },
   "outputs": [],
   "source": [
    "# reshape input to be [samples, time steps, features] which is required for LSTM\n",
    "X_train =X_train.reshape(X_train.shape[0],X_train.shape[1] , 1)\n",
    "X_test = X_test.reshape(X_test.shape[0],X_test.shape[1] , 1)"
   ]
  },
  {
   "cell_type": "code",
   "execution_count": null,
   "metadata": {
    "executionInfo": {
     "elapsed": 1463,
     "status": "ok",
     "timestamp": 1639715854552,
     "user": {
      "displayName": "Ashish Jha",
      "photoUrl": "https://lh3.googleusercontent.com/a-/AOh14Gh-ozBKE0He1qH4ZZ94HRMt241gIELK_ULLP7n1Mw=s64",
      "userId": "09828439102845854314"
     },
     "user_tz": -330
    },
    "id": "6sglYDboqVhG"
   },
   "outputs": [],
   "source": [
    "### Create the Stacked LSTM model\n",
    "from tensorflow.keras.models import Sequential\n",
    "from tensorflow.keras.layers import Dense\n",
    "from tensorflow.keras.layers import LSTM\n",
    "# from "
   ]
  },
  {
   "cell_type": "code",
   "execution_count": null,
   "metadata": {
    "executionInfo": {
     "elapsed": 1325,
     "status": "ok",
     "timestamp": 1639715855873,
     "user": {
      "displayName": "Ashish Jha",
      "photoUrl": "https://lh3.googleusercontent.com/a-/AOh14Gh-ozBKE0He1qH4ZZ94HRMt241gIELK_ULLP7n1Mw=s64",
      "userId": "09828439102845854314"
     },
     "user_tz": -330
    },
    "id": "4Sg69WpdqVhH"
   },
   "outputs": [],
   "source": [
    "model=Sequential()\n",
    "model.add(LSTM(50,return_sequences=True,input_shape=(100,1)))\n",
    "model.add(LSTM(50,return_sequences=True))\n",
    "model.add(LSTM(50))\n",
    "model.add(Dense(1))\n",
    "model.compile(loss='mean_squared_error',optimizer='adam', metrics=['accuracy'])\n"
   ]
  },
  {
   "cell_type": "code",
   "execution_count": null,
   "metadata": {
    "colab": {
     "base_uri": "https://localhost:8080/"
    },
    "executionInfo": {
     "elapsed": 47,
     "status": "ok",
     "timestamp": 1639715855875,
     "user": {
      "displayName": "Ashish Jha",
      "photoUrl": "https://lh3.googleusercontent.com/a-/AOh14Gh-ozBKE0He1qH4ZZ94HRMt241gIELK_ULLP7n1Mw=s64",
      "userId": "09828439102845854314"
     },
     "user_tz": -330
    },
    "id": "AyZy2O6zqVhI",
    "outputId": "7b144835-3ebc-45f3-af28-86e1f2081105"
   },
   "outputs": [],
   "source": [
    "model.summary()"
   ]
  },
  {
   "cell_type": "code",
   "execution_count": null,
   "metadata": {
    "colab": {
     "base_uri": "https://localhost:8080/"
    },
    "executionInfo": {
     "elapsed": 135913,
     "status": "ok",
     "timestamp": 1639717082984,
     "user": {
      "displayName": "Ashish Jha",
      "photoUrl": "https://lh3.googleusercontent.com/a-/AOh14Gh-ozBKE0He1qH4ZZ94HRMt241gIELK_ULLP7n1Mw=s64",
      "userId": "09828439102845854314"
     },
     "user_tz": -330
    },
    "id": "Ut1XVw-5qVhI",
    "outputId": "7a9fd55d-eb1f-4ea0-dd97-892f11d47c82"
   },
   "outputs": [],
   "source": [
    "hist = model.fit(X_train,y_train,validation_data=(X_test,y_test),epochs=60,batch_size=64,verbose=1)"
   ]
  },
  {
   "cell_type": "code",
   "execution_count": null,
   "metadata": {
    "colab": {
     "base_uri": "https://localhost:8080/"
    },
    "executionInfo": {
     "elapsed": 17,
     "status": "ok",
     "timestamp": 1639717083003,
     "user": {
      "displayName": "Ashish Jha",
      "photoUrl": "https://lh3.googleusercontent.com/a-/AOh14Gh-ozBKE0He1qH4ZZ94HRMt241gIELK_ULLP7n1Mw=s64",
      "userId": "09828439102845854314"
     },
     "user_tz": -330
    },
    "id": "ZpmqTDJmqVhJ",
    "outputId": "fa81e4f1-1b12-43fd-c815-e9478f80c443"
   },
   "outputs": [],
   "source": [
    "print(hist.history.keys())"
   ]
  },
  {
   "cell_type": "code",
   "execution_count": null,
   "metadata": {},
   "outputs": [],
   "source": [
    "pyplot.plot(hist.history['loss'])\n",
    "pyplot.plot(hist.history['val_loss'])\n",
    "pyplot.title('model train vs validation loss')\n",
    "pyplot.ylabel('loss')\n",
    "pyplot.xlabel('epoch')\n",
    "pyplot.legend(['train', 'validation'], loc='upper right')\n",
    "pyplot.show()"
   ]
  },
  {
   "cell_type": "code",
   "execution_count": null,
   "metadata": {
    "colab": {
     "base_uri": "https://localhost:8080/",
     "height": 282
    },
    "executionInfo": {
     "elapsed": 8,
     "status": "ok",
     "timestamp": 1639717083004,
     "user": {
      "displayName": "Ashish Jha",
      "photoUrl": "https://lh3.googleusercontent.com/a-/AOh14Gh-ozBKE0He1qH4ZZ94HRMt241gIELK_ULLP7n1Mw=s64",
      "userId": "09828439102845854314"
     },
     "user_tz": -330
    },
    "id": "dkrkvXrrqVhK",
    "outputId": "d6ce45b0-32b7-44ff-ef3a-de1f56a095f1"
   },
   "outputs": [],
   "source": [
    "loss_per_epoch = model.history.history['loss']\n",
    "plt.plot(range(len(loss_per_epoch)),loss_per_epoch)"
   ]
  },
  {
   "cell_type": "code",
   "execution_count": null,
   "metadata": {
    "executionInfo": {
     "elapsed": 3,
     "status": "ok",
     "timestamp": 1639717083005,
     "user": {
      "displayName": "Ashish Jha",
      "photoUrl": "https://lh3.googleusercontent.com/a-/AOh14Gh-ozBKE0He1qH4ZZ94HRMt241gIELK_ULLP7n1Mw=s64",
      "userId": "09828439102845854314"
     },
     "user_tz": -330
    },
    "id": "Z7Jkmxq9qVhL"
   },
   "outputs": [],
   "source": [
    "# import tensorflow as tf"
   ]
  },
  {
   "cell_type": "code",
   "execution_count": null,
   "metadata": {
    "executionInfo": {
     "elapsed": 4,
     "status": "ok",
     "timestamp": 1639717083006,
     "user": {
      "displayName": "Ashish Jha",
      "photoUrl": "https://lh3.googleusercontent.com/a-/AOh14Gh-ozBKE0He1qH4ZZ94HRMt241gIELK_ULLP7n1Mw=s64",
      "userId": "09828439102845854314"
     },
     "user_tz": -330
    },
    "id": "Fs6R7P9iqVhL"
   },
   "outputs": [],
   "source": [
    "# tf.__version__"
   ]
  },
  {
   "cell_type": "code",
   "execution_count": null,
   "metadata": {
    "executionInfo": {
     "elapsed": 9345,
     "status": "ok",
     "timestamp": 1639717092347,
     "user": {
      "displayName": "Ashish Jha",
      "photoUrl": "https://lh3.googleusercontent.com/a-/AOh14Gh-ozBKE0He1qH4ZZ94HRMt241gIELK_ULLP7n1Mw=s64",
      "userId": "09828439102845854314"
     },
     "user_tz": -330
    },
    "id": "Jke-l1LPqVhM"
   },
   "outputs": [],
   "source": [
    "### Lets Do the prediction and check performance metrics\n",
    "train_predict=model.predict(X_train)\n",
    "test_predict=model.predict(X_test)"
   ]
  },
  {
   "cell_type": "code",
   "execution_count": null,
   "metadata": {
    "executionInfo": {
     "elapsed": 21,
     "status": "ok",
     "timestamp": 1639717092369,
     "user": {
      "displayName": "Ashish Jha",
      "photoUrl": "https://lh3.googleusercontent.com/a-/AOh14Gh-ozBKE0He1qH4ZZ94HRMt241gIELK_ULLP7n1Mw=s64",
      "userId": "09828439102845854314"
     },
     "user_tz": -330
    },
    "id": "qKTuggWKqVhM"
   },
   "outputs": [],
   "source": [
    "##Transformback to original form\n",
    "train_predict=scaler.inverse_transform(train_predict)\n",
    "test_predict=scaler.inverse_transform(test_predict)"
   ]
  },
  {
   "cell_type": "code",
   "execution_count": null,
   "metadata": {
    "colab": {
     "base_uri": "https://localhost:8080/"
    },
    "executionInfo": {
     "elapsed": 21,
     "status": "ok",
     "timestamp": 1639717092370,
     "user": {
      "displayName": "Ashish Jha",
      "photoUrl": "https://lh3.googleusercontent.com/a-/AOh14Gh-ozBKE0He1qH4ZZ94HRMt241gIELK_ULLP7n1Mw=s64",
      "userId": "09828439102845854314"
     },
     "user_tz": -330
    },
    "id": "milbgwvvqVhN",
    "outputId": "3d2dc825-8b49-4212-9132-8704dcf361f5"
   },
   "outputs": [],
   "source": [
    "### Calculate RMSE performance metrics\n",
    "import math\n",
    "from sklearn.metrics import mean_squared_error\n",
    "math.sqrt(mean_squared_error(y_train,train_predict))"
   ]
  },
  {
   "cell_type": "code",
   "execution_count": null,
   "metadata": {
    "colab": {
     "base_uri": "https://localhost:8080/"
    },
    "executionInfo": {
     "elapsed": 16,
     "status": "ok",
     "timestamp": 1639717092371,
     "user": {
      "displayName": "Ashish Jha",
      "photoUrl": "https://lh3.googleusercontent.com/a-/AOh14Gh-ozBKE0He1qH4ZZ94HRMt241gIELK_ULLP7n1Mw=s64",
      "userId": "09828439102845854314"
     },
     "user_tz": -330
    },
    "id": "586PS2mJqVhO",
    "outputId": "81cea1fd-84c3-4ff0-efa2-b65aba60c985"
   },
   "outputs": [],
   "source": [
    "### Test Data RMSE\n",
    "math.sqrt(mean_squared_error(y_test,test_predict))"
   ]
  },
  {
   "cell_type": "code",
   "execution_count": null,
   "metadata": {
    "colab": {
     "base_uri": "https://localhost:8080/",
     "height": 265
    },
    "executionInfo": {
     "elapsed": 13,
     "status": "ok",
     "timestamp": 1639717092373,
     "user": {
      "displayName": "Ashish Jha",
      "photoUrl": "https://lh3.googleusercontent.com/a-/AOh14Gh-ozBKE0He1qH4ZZ94HRMt241gIELK_ULLP7n1Mw=s64",
      "userId": "09828439102845854314"
     },
     "user_tz": -330
    },
    "id": "cDHkbknGqVhP",
    "outputId": "339ec772-db22-4289-ac35-fa3d53405ee2",
    "scrolled": true
   },
   "outputs": [],
   "source": [
    "### Plotting \n",
    "# shift train predictions for plotting\n",
    "look_back=100\n",
    "trainPredictPlot = np.empty_like(df_na)\n",
    "trainPredictPlot[:, :] = np.nan\n",
    "trainPredictPlot[look_back:len(train_predict)+look_back, :] = train_predict\n",
    "# shift test predictions for plotting\n",
    "testPredictPlot = np.empty_like(df_na)\n",
    "testPredictPlot[:, :] = np.nan\n",
    "testPredictPlot[len(train_predict)+(look_back*2)+1:len(df_na)-1, :] = test_predict\n",
    "# plot baseline and predictions\n",
    "plt.plot(scaler.inverse_transform(df_na))\n",
    "plt.plot(trainPredictPlot)\n",
    "plt.plot(testPredictPlot)\n",
    "plt.show()"
   ]
  },
  {
   "cell_type": "code",
   "execution_count": null,
   "metadata": {
    "colab": {
     "base_uri": "https://localhost:8080/",
     "height": 282
    },
    "executionInfo": {
     "elapsed": 1139,
     "status": "ok",
     "timestamp": 1639717093501,
     "user": {
      "displayName": "Ashish Jha",
      "photoUrl": "https://lh3.googleusercontent.com/a-/AOh14Gh-ozBKE0He1qH4ZZ94HRMt241gIELK_ULLP7n1Mw=s64",
      "userId": "09828439102845854314"
     },
     "user_tz": -330
    },
    "id": "0DzQKwxzqVhQ",
    "outputId": "6ef85e28-6dfb-4947-dcec-78b30361175e"
   },
   "outputs": [],
   "source": [
    "plt.plot(scaler.inverse_transform(df_na))"
   ]
  },
  {
   "cell_type": "code",
   "execution_count": null,
   "metadata": {
    "colab": {
     "base_uri": "https://localhost:8080/",
     "height": 282
    },
    "executionInfo": {
     "elapsed": 44,
     "status": "ok",
     "timestamp": 1639717093504,
     "user": {
      "displayName": "Ashish Jha",
      "photoUrl": "https://lh3.googleusercontent.com/a-/AOh14Gh-ozBKE0He1qH4ZZ94HRMt241gIELK_ULLP7n1Mw=s64",
      "userId": "09828439102845854314"
     },
     "user_tz": -330
    },
    "id": "dBhSYYhVqVhR",
    "outputId": "5b75a0ae-c872-4a20-e838-b3a4a8c149cf"
   },
   "outputs": [],
   "source": [
    "plt.plot(trainPredictPlot)\n"
   ]
  },
  {
   "cell_type": "code",
   "execution_count": null,
   "metadata": {
    "colab": {
     "base_uri": "https://localhost:8080/",
     "height": 282
    },
    "executionInfo": {
     "elapsed": 31,
     "status": "ok",
     "timestamp": 1639717093506,
     "user": {
      "displayName": "Ashish Jha",
      "photoUrl": "https://lh3.googleusercontent.com/a-/AOh14Gh-ozBKE0He1qH4ZZ94HRMt241gIELK_ULLP7n1Mw=s64",
      "userId": "09828439102845854314"
     },
     "user_tz": -330
    },
    "id": "6UEg2pstqVhS",
    "outputId": "c7d7654f-7697-415e-e2c3-52f8d15e8688"
   },
   "outputs": [],
   "source": [
    "plt.plot(testPredictPlot)\n"
   ]
  },
  {
   "cell_type": "code",
   "execution_count": null,
   "metadata": {
    "colab": {
     "base_uri": "https://localhost:8080/"
    },
    "executionInfo": {
     "elapsed": 23,
     "status": "ok",
     "timestamp": 1639717093507,
     "user": {
      "displayName": "Ashish Jha",
      "photoUrl": "https://lh3.googleusercontent.com/a-/AOh14Gh-ozBKE0He1qH4ZZ94HRMt241gIELK_ULLP7n1Mw=s64",
      "userId": "09828439102845854314"
     },
     "user_tz": -330
    },
    "id": "Qufykd0pqVhS",
    "outputId": "eb8a6838-fca5-4de1-eb43-1addf149cc63"
   },
   "outputs": [],
   "source": [
    "len(test_data)"
   ]
  },
  {
   "cell_type": "code",
   "execution_count": null,
   "metadata": {
    "colab": {
     "base_uri": "https://localhost:8080/"
    },
    "executionInfo": {
     "elapsed": 481,
     "status": "ok",
     "timestamp": 1639717256679,
     "user": {
      "displayName": "Ashish Jha",
      "photoUrl": "https://lh3.googleusercontent.com/a-/AOh14Gh-ozBKE0He1qH4ZZ94HRMt241gIELK_ULLP7n1Mw=s64",
      "userId": "09828439102845854314"
     },
     "user_tz": -330
    },
    "id": "hqijI1zNqVhT",
    "outputId": "f3eb167b-213f-4ec5-9baf-0d1839f4295a"
   },
   "outputs": [],
   "source": [
    "x_input=test_data[918:].reshape(1,-1)\n",
    "x_input.shape"
   ]
  },
  {
   "cell_type": "code",
   "execution_count": null,
   "metadata": {
    "executionInfo": {
     "elapsed": 564,
     "status": "ok",
     "timestamp": 1639717260357,
     "user": {
      "displayName": "Ashish Jha",
      "photoUrl": "https://lh3.googleusercontent.com/a-/AOh14Gh-ozBKE0He1qH4ZZ94HRMt241gIELK_ULLP7n1Mw=s64",
      "userId": "09828439102845854314"
     },
     "user_tz": -330
    },
    "id": "QaPztEVrqVhT"
   },
   "outputs": [],
   "source": [
    "temp_input=list(x_input)\n",
    "temp_input=temp_input[0].tolist()"
   ]
  },
  {
   "cell_type": "code",
   "execution_count": null,
   "metadata": {
    "colab": {
     "base_uri": "https://localhost:8080/"
    },
    "executionInfo": {
     "elapsed": 900,
     "status": "ok",
     "timestamp": 1639717263441,
     "user": {
      "displayName": "Ashish Jha",
      "photoUrl": "https://lh3.googleusercontent.com/a-/AOh14Gh-ozBKE0He1qH4ZZ94HRMt241gIELK_ULLP7n1Mw=s64",
      "userId": "09828439102845854314"
     },
     "user_tz": -330
    },
    "id": "0xeTSroXqVhU",
    "outputId": "705d4fda-841a-40fb-ca71-45bb18cb318c"
   },
   "outputs": [],
   "source": [
    "temp_input"
   ]
  },
  {
   "cell_type": "code",
   "execution_count": null,
   "metadata": {
    "colab": {
     "base_uri": "https://localhost:8080/"
    },
    "executionInfo": {
     "elapsed": 4973,
     "status": "ok",
     "timestamp": 1639717335550,
     "user": {
      "displayName": "Ashish Jha",
      "photoUrl": "https://lh3.googleusercontent.com/a-/AOh14Gh-ozBKE0He1qH4ZZ94HRMt241gIELK_ULLP7n1Mw=s64",
      "userId": "09828439102845854314"
     },
     "user_tz": -330
    },
    "id": "ptgocqhSqVhU",
    "outputId": "2a1298a2-9a61-4269-f98a-9f1924a53dee"
   },
   "outputs": [],
   "source": [
    "# demonstrate prediction for next 70 days\n",
    "from numpy import array\n",
    "\n",
    "lst_output=[]\n",
    "n_steps=100\n",
    "i=0\n",
    "while(i<70):\n",
    "    \n",
    "    if(len(temp_input)>100):\n",
    "        #print(temp_input)\n",
    "        x_input=np.array(temp_input[1:])\n",
    "        print(\"{} day input {}\".format(i,x_input))\n",
    "        x_input=x_input.reshape(1,-1)\n",
    "        x_input = x_input.reshape((1, n_steps, 1))\n",
    "        #print(x_input)\n",
    "        yhat = model.predict(x_input, verbose=0)\n",
    "        print(\"{} day output {}\".format(i,yhat))\n",
    "        temp_input.extend(yhat[0].tolist())\n",
    "        temp_input=temp_input[1:]\n",
    "        #print(temp_input)\n",
    "        lst_output.extend(yhat.tolist())\n",
    "        i=i+1\n",
    "    else:\n",
    "        x_input = x_input.reshape((1, n_steps,1))\n",
    "        yhat = model.predict(x_input, verbose=0)\n",
    "        print(yhat[0])\n",
    "        temp_input.extend(yhat[0].tolist())\n",
    "        print(len(temp_input))\n",
    "        lst_output.extend(yhat.tolist())\n",
    "        i=i+1\n",
    "    \n",
    "\n",
    "print(lst_output)"
   ]
  },
  {
   "cell_type": "code",
   "execution_count": null,
   "metadata": {
    "executionInfo": {
     "elapsed": 733,
     "status": "ok",
     "timestamp": 1639717371946,
     "user": {
      "displayName": "Ashish Jha",
      "photoUrl": "https://lh3.googleusercontent.com/a-/AOh14Gh-ozBKE0He1qH4ZZ94HRMt241gIELK_ULLP7n1Mw=s64",
      "userId": "09828439102845854314"
     },
     "user_tz": -330
    },
    "id": "jXP3y2fhqVhV"
   },
   "outputs": [],
   "source": [
    "day_new=np.arange(1,101)\n",
    "day_pred=np.arange(101,171)"
   ]
  },
  {
   "cell_type": "code",
   "execution_count": null,
   "metadata": {
    "executionInfo": {
     "elapsed": 53,
     "status": "ok",
     "timestamp": 1639717373216,
     "user": {
      "displayName": "Ashish Jha",
      "photoUrl": "https://lh3.googleusercontent.com/a-/AOh14Gh-ozBKE0He1qH4ZZ94HRMt241gIELK_ULLP7n1Mw=s64",
      "userId": "09828439102845854314"
     },
     "user_tz": -330
    },
    "id": "qHIkU54zqVhV"
   },
   "outputs": [],
   "source": [
    "import matplotlib.pyplot as plt"
   ]
  },
  {
   "cell_type": "code",
   "execution_count": null,
   "metadata": {
    "colab": {
     "base_uri": "https://localhost:8080/"
    },
    "executionInfo": {
     "elapsed": 52,
     "status": "ok",
     "timestamp": 1639717373218,
     "user": {
      "displayName": "Ashish Jha",
      "photoUrl": "https://lh3.googleusercontent.com/a-/AOh14Gh-ozBKE0He1qH4ZZ94HRMt241gIELK_ULLP7n1Mw=s64",
      "userId": "09828439102845854314"
     },
     "user_tz": -330
    },
    "id": "T5VMc6knqVhW",
    "outputId": "f69f0e22-7334-46a2-a50c-90bc22bc0e71"
   },
   "outputs": [],
   "source": [
    "len(df_na)"
   ]
  },
  {
   "cell_type": "code",
   "execution_count": null,
   "metadata": {
    "colab": {
     "base_uri": "https://localhost:8080/",
     "height": 282
    },
    "executionInfo": {
     "elapsed": 49,
     "status": "ok",
     "timestamp": 1639717373222,
     "user": {
      "displayName": "Ashish Jha",
      "photoUrl": "https://lh3.googleusercontent.com/a-/AOh14Gh-ozBKE0He1qH4ZZ94HRMt241gIELK_ULLP7n1Mw=s64",
      "userId": "09828439102845854314"
     },
     "user_tz": -330
    },
    "id": "aHbwl7qGqVhW",
    "outputId": "3b9142ed-e43e-4601-a7a3-7d1a6436316d"
   },
   "outputs": [],
   "source": [
    "plt.plot(day_new,scaler.inverse_transform(df_na[7918:]))\n",
    "plt.plot(day_pred,scaler.inverse_transform(lst_output))"
   ]
  },
  {
   "cell_type": "code",
   "execution_count": null,
   "metadata": {
    "executionInfo": {
     "elapsed": 42,
     "status": "ok",
     "timestamp": 1639717373225,
     "user": {
      "displayName": "Ashish Jha",
      "photoUrl": "https://lh3.googleusercontent.com/a-/AOh14Gh-ozBKE0He1qH4ZZ94HRMt241gIELK_ULLP7n1Mw=s64",
      "userId": "09828439102845854314"
     },
     "user_tz": -330
    },
    "id": "DGQ3mO5qqVhX"
   },
   "outputs": [],
   "source": [
    "# plt.plot(day_new,scaler.inverse_transform(df_na[7518:]))\n",
    "# plt.plot(day_pred,scaler.inverse_transform(lst_output))"
   ]
  },
  {
   "cell_type": "code",
   "execution_count": null,
   "metadata": {
    "colab": {
     "base_uri": "https://localhost:8080/",
     "height": 282
    },
    "executionInfo": {
     "elapsed": 1642,
     "status": "ok",
     "timestamp": 1639717583166,
     "user": {
      "displayName": "Ashish Jha",
      "photoUrl": "https://lh3.googleusercontent.com/a-/AOh14Gh-ozBKE0He1qH4ZZ94HRMt241gIELK_ULLP7n1Mw=s64",
      "userId": "09828439102845854314"
     },
     "user_tz": -330
    },
    "id": "bu1bHGGAqVhX",
    "outputId": "8894426b-d465-46b7-d66d-4b980b0ca0a6"
   },
   "outputs": [],
   "source": [
    "df3=df_na.tolist()\n",
    "df3.extend(lst_output)\n",
    "plt.plot(df3[0:])"
   ]
  },
  {
   "cell_type": "code",
   "execution_count": null,
   "metadata": {
    "executionInfo": {
     "elapsed": 911,
     "status": "ok",
     "timestamp": 1639719636355,
     "user": {
      "displayName": "Ashish Jha",
      "photoUrl": "https://lh3.googleusercontent.com/a-/AOh14Gh-ozBKE0He1qH4ZZ94HRMt241gIELK_ULLP7n1Mw=s64",
      "userId": "09828439102845854314"
     },
     "user_tz": -330
    },
    "id": "k5lpDJmIqVhX"
   },
   "outputs": [],
   "source": [
    "df3=scaler.inverse_transform(df3).tolist()"
   ]
  },
  {
   "cell_type": "code",
   "execution_count": null,
   "metadata": {
    "colab": {
     "base_uri": "https://localhost:8080/",
     "height": 282
    },
    "executionInfo": {
     "elapsed": 983,
     "status": "ok",
     "timestamp": 1639717374177,
     "user": {
      "displayName": "Ashish Jha",
      "photoUrl": "https://lh3.googleusercontent.com/a-/AOh14Gh-ozBKE0He1qH4ZZ94HRMt241gIELK_ULLP7n1Mw=s64",
      "userId": "09828439102845854314"
     },
     "user_tz": -330
    },
    "id": "vyTzSZsHqVhY",
    "outputId": "c49c94f0-ef7e-474f-848c-91990633eeff",
    "scrolled": true
   },
   "outputs": [],
   "source": [
    "plt.plot(df3)"
   ]
  },
  {
   "cell_type": "code",
   "execution_count": null,
   "metadata": {
    "colab": {
     "base_uri": "https://localhost:8080/"
    },
    "executionInfo": {
     "elapsed": 1006,
     "status": "ok",
     "timestamp": 1639719655733,
     "user": {
      "displayName": "Ashish Jha",
      "photoUrl": "https://lh3.googleusercontent.com/a-/AOh14Gh-ozBKE0He1qH4ZZ94HRMt241gIELK_ULLP7n1Mw=s64",
      "userId": "09828439102845854314"
     },
     "user_tz": -330
    },
    "id": "ALJglYsrqhYN",
    "outputId": "aac522af-2cb4-48a0-e602-afc0abf66bc6"
   },
   "outputs": [],
   "source": [
    "len(df3)"
   ]
  },
  {
   "cell_type": "code",
   "execution_count": null,
   "metadata": {
    "colab": {
     "base_uri": "https://localhost:8080/",
     "height": 295
    },
    "executionInfo": {
     "elapsed": 962,
     "status": "ok",
     "timestamp": 1639717511215,
     "user": {
      "displayName": "Ashish Jha",
      "photoUrl": "https://lh3.googleusercontent.com/a-/AOh14Gh-ozBKE0He1qH4ZZ94HRMt241gIELK_ULLP7n1Mw=s64",
      "userId": "09828439102845854314"
     },
     "user_tz": -330
    },
    "id": "pMsVlZT3qVhY",
    "outputId": "ddb170bc-0d86-4bff-f4ba-75e26a19c789"
   },
   "outputs": [],
   "source": [
    "# summarize history for loss\n",
    "plt.plot(hist.history['loss'])\n",
    "plt.plot(hist.history['val_loss'])\n",
    "plt.title('model loss')\n",
    "plt.ylabel('loss')\n",
    "plt.xlabel('epoch')\n",
    "plt.legend(['train', 'test'], loc='upper left')\n",
    "plt.show()"
   ]
  },
  {
   "cell_type": "code",
   "execution_count": null,
   "metadata": {
    "executionInfo": {
     "elapsed": 652,
     "status": "ok",
     "timestamp": 1639718435899,
     "user": {
      "displayName": "Ashish Jha",
      "photoUrl": "https://lh3.googleusercontent.com/a-/AOh14Gh-ozBKE0He1qH4ZZ94HRMt241gIELK_ULLP7n1Mw=s64",
      "userId": "09828439102845854314"
     },
     "user_tz": -330
    },
    "id": "nVZI4pGXqVhZ"
   },
   "outputs": [],
   "source": [
    "# df"
   ]
  },
  {
   "cell_type": "code",
   "execution_count": null,
   "metadata": {
    "colab": {
     "base_uri": "https://localhost:8080/"
    },
    "executionInfo": {
     "elapsed": 477,
     "status": "ok",
     "timestamp": 1639717915220,
     "user": {
      "displayName": "Ashish Jha",
      "photoUrl": "https://lh3.googleusercontent.com/a-/AOh14Gh-ozBKE0He1qH4ZZ94HRMt241gIELK_ULLP7n1Mw=s64",
      "userId": "09828439102845854314"
     },
     "user_tz": -330
    },
    "id": "xLRvDl25qVhZ",
    "outputId": "e32d9669-4061-482c-8232-0a2600b8497a"
   },
   "outputs": [],
   "source": [
    "from datetime import datetime, timedelta\n",
    "\n",
    "def datetime_range(start, end, delta):\n",
    "    current = start\n",
    "    while current < end:\n",
    "        yield current\n",
    "        current += delta\n",
    "\n",
    "dts = [dt.strftime('%d-%m-%y %H:%M ') for dt in \n",
    "       datetime_range(datetime(2019, 1, 1, 0), datetime(2019, 1, 3, 22), \n",
    "       timedelta(minutes=60))]\n",
    "\n",
    "print(dts)"
   ]
  },
  {
   "cell_type": "code",
   "execution_count": null,
   "metadata": {
    "colab": {
     "base_uri": "https://localhost:8080/"
    },
    "executionInfo": {
     "elapsed": 520,
     "status": "ok",
     "timestamp": 1639718416718,
     "user": {
      "displayName": "Ashish Jha",
      "photoUrl": "https://lh3.googleusercontent.com/a-/AOh14Gh-ozBKE0He1qH4ZZ94HRMt241gIELK_ULLP7n1Mw=s64",
      "userId": "09828439102845854314"
     },
     "user_tz": -330
    },
    "id": "QqLm10b0zevO",
    "outputId": "8021b471-a184-4524-8480-a61ad4f782cc"
   },
   "outputs": [],
   "source": [
    "len(dts)\n",
    "# type(dts)\n",
    "# dts_arr = np.array(dts)"
   ]
  },
  {
   "cell_type": "code",
   "execution_count": null,
   "metadata": {
    "colab": {
     "base_uri": "https://localhost:8080/"
    },
    "executionInfo": {
     "elapsed": 15,
     "status": "ok",
     "timestamp": 1639718442625,
     "user": {
      "displayName": "Ashish Jha",
      "photoUrl": "https://lh3.googleusercontent.com/a-/AOh14Gh-ozBKE0He1qH4ZZ94HRMt241gIELK_ULLP7n1Mw=s64",
      "userId": "09828439102845854314"
     },
     "user_tz": -330
    },
    "id": "MFhd5sZYzkla",
    "outputId": "ca132bec-df3c-48ea-d0b8-9c0293ade406"
   },
   "outputs": [],
   "source": [
    "date_ind = df.index.values\n",
    "date_ind = date_ind.tolist()\n",
    "# type(date_ind)\n",
    "len(date_ind)\n"
   ]
  },
  {
   "cell_type": "code",
   "execution_count": null,
   "metadata": {
    "colab": {
     "base_uri": "https://localhost:8080/"
    },
    "executionInfo": {
     "elapsed": 631,
     "status": "ok",
     "timestamp": 1639718449660,
     "user": {
      "displayName": "Ashish Jha",
      "photoUrl": "https://lh3.googleusercontent.com/a-/AOh14Gh-ozBKE0He1qH4ZZ94HRMt241gIELK_ULLP7n1Mw=s64",
      "userId": "09828439102845854314"
     },
     "user_tz": -330
    },
    "id": "QMSfWvVczi9F",
    "outputId": "e08d8668-ff77-4376-b3d6-64fb26db38aa"
   },
   "outputs": [],
   "source": [
    "date_ind = date_ind+dts\n",
    "len(date_ind)"
   ]
  },
  {
   "cell_type": "code",
   "execution_count": null,
   "metadata": {
    "colab": {
     "base_uri": "https://localhost:8080/"
    },
    "executionInfo": {
     "elapsed": 445,
     "status": "ok",
     "timestamp": 1639719895220,
     "user": {
      "displayName": "Ashish Jha",
      "photoUrl": "https://lh3.googleusercontent.com/a-/AOh14Gh-ozBKE0He1qH4ZZ94HRMt241gIELK_ULLP7n1Mw=s64",
      "userId": "09828439102845854314"
     },
     "user_tz": -330
    },
    "id": "pCIQ0A3ZzhlA",
    "outputId": "991d25cf-13f1-48dd-8a65-9a03088df838"
   },
   "outputs": [],
   "source": [
    "data_pm2 = df['pm2.5']\n",
    "data_pm2 = data_pm2.tolist()\n",
    "type(data_pm2)"
   ]
  },
  {
   "cell_type": "code",
   "execution_count": null,
   "metadata": {
    "colab": {
     "base_uri": "https://localhost:8080/"
    },
    "executionInfo": {
     "elapsed": 658,
     "status": "ok",
     "timestamp": 1639719714355,
     "user": {
      "displayName": "Ashish Jha",
      "photoUrl": "https://lh3.googleusercontent.com/a-/AOh14Gh-ozBKE0He1qH4ZZ94HRMt241gIELK_ULLP7n1Mw=s64",
      "userId": "09828439102845854314"
     },
     "user_tz": -330
    },
    "id": "XgeULaF915eg",
    "outputId": "489f47b7-5b5b-49bc-e874-69bd62ff5ed3"
   },
   "outputs": [],
   "source": [
    "data_pm2_end = df3[8018:8088]\n",
    "# len(data_pm2_end)\n",
    "data_pm2_end"
   ]
  },
  {
   "cell_type": "code",
   "execution_count": null,
   "metadata": {
    "colab": {
     "base_uri": "https://localhost:8080/"
    },
    "executionInfo": {
     "elapsed": 733,
     "status": "ok",
     "timestamp": 1639719909070,
     "user": {
      "displayName": "Ashish Jha",
      "photoUrl": "https://lh3.googleusercontent.com/a-/AOh14Gh-ozBKE0He1qH4ZZ94HRMt241gIELK_ULLP7n1Mw=s64",
      "userId": "09828439102845854314"
     },
     "user_tz": -330
    },
    "id": "HGfCAJGK14_Y",
    "outputId": "4fad419f-77b7-4c0a-a479-aee4f14606e8"
   },
   "outputs": [],
   "source": [
    "# data_pm2 = data_pm2 + data_pm2_end\n",
    "data_pm2.extend(data_pm2_end)\n",
    "len(data_pm2)"
   ]
  },
  {
   "cell_type": "code",
   "execution_count": null,
   "metadata": {
    "colab": {
     "base_uri": "https://localhost:8080/"
    },
    "executionInfo": {
     "elapsed": 721,
     "status": "ok",
     "timestamp": 1639720375538,
     "user": {
      "displayName": "Ashish Jha",
      "photoUrl": "https://lh3.googleusercontent.com/a-/AOh14Gh-ozBKE0He1qH4ZZ94HRMt241gIELK_ULLP7n1Mw=s64",
      "userId": "09828439102845854314"
     },
     "user_tz": -330
    },
    "id": "ADwl8R0g7Gje",
    "outputId": "b3d019c5-0240-4647-843c-1bc74094b988"
   },
   "outputs": [],
   "source": [
    "# array_date = np.array(date_ind)\n",
    "# array_data = np.array(data_pm2)\n",
    "type(data_pm2)"
   ]
  },
  {
   "cell_type": "code",
   "execution_count": null,
   "metadata": {
    "colab": {
     "base_uri": "https://localhost:8080/"
    },
    "executionInfo": {
     "elapsed": 414,
     "status": "ok",
     "timestamp": 1639720306783,
     "user": {
      "displayName": "Ashish Jha",
      "photoUrl": "https://lh3.googleusercontent.com/a-/AOh14Gh-ozBKE0He1qH4ZZ94HRMt241gIELK_ULLP7n1Mw=s64",
      "userId": "09828439102845854314"
     },
     "user_tz": -330
    },
    "id": "Jm9Z0mlQ7Eqs",
    "outputId": "64305326-0668-49ab-a5a0-95b5c5f39ea9"
   },
   "outputs": [],
   "source": []
  },
  {
   "cell_type": "code",
   "execution_count": null,
   "metadata": {
    "executionInfo": {
     "elapsed": 38,
     "status": "ok",
     "timestamp": 1639717536670,
     "user": {
      "displayName": "Ashish Jha",
      "photoUrl": "https://lh3.googleusercontent.com/a-/AOh14Gh-ozBKE0He1qH4ZZ94HRMt241gIELK_ULLP7n1Mw=s64",
      "userId": "09828439102845854314"
     },
     "user_tz": -330
    },
    "id": "MxhUhesdqVha"
   },
   "outputs": [],
   "source": [
    "# _, train_acc = model.evaluate(X_split_train, y_split_train, verbose=0)\n",
    "# _, test_acc = model.evaluate(X_split_test, y_split_test, verbose=0)\n",
    "# print('Train: %.5f, Test: %.5f' % (train_acc, test_acc))"
   ]
  },
  {
   "cell_type": "code",
   "execution_count": null,
   "metadata": {
    "executionInfo": {
     "elapsed": 36,
     "status": "ok",
     "timestamp": 1639717536671,
     "user": {
      "displayName": "Ashish Jha",
      "photoUrl": "https://lh3.googleusercontent.com/a-/AOh14Gh-ozBKE0He1qH4ZZ94HRMt241gIELK_ULLP7n1Mw=s64",
      "userId": "09828439102845854314"
     },
     "user_tz": -330
    },
    "id": "mUEhJSiQqVha"
   },
   "outputs": [],
   "source": [
    "\n",
    "# import plotly.express as px\n",
    "# fig = px.line(df3, y='pm2.5', title='pm2.5 with slider')\n",
    "\n",
    "# fig.update_xaxes(\n",
    "#     rangeslider_visible = True,\n",
    "#     rangeselector=dict(\n",
    "#         buttons=list([\n",
    "#             dict(step=\"all\")\n",
    "#         ]\n",
    "#         )))  \n",
    "# fig.show()"
   ]
  },
  {
   "cell_type": "markdown",
   "metadata": {
    "id": "sgfUUguAqVhb"
   },
   "source": [
    "### The end"
   ]
  },
  {
   "cell_type": "markdown",
   "metadata": {
    "id": "TeN-SI0BqVhc"
   },
   "source": [
    "## This was previous version"
   ]
  },
  {
   "cell_type": "code",
   "execution_count": null,
   "metadata": {
    "executionInfo": {
     "elapsed": 34,
     "status": "ok",
     "timestamp": 1639717536672,
     "user": {
      "displayName": "Ashish Jha",
      "photoUrl": "https://lh3.googleusercontent.com/a-/AOh14Gh-ozBKE0He1qH4ZZ94HRMt241gIELK_ULLP7n1Mw=s64",
      "userId": "09828439102845854314"
     },
     "user_tz": -330
    },
    "id": "ijgmVYgC6zBz"
   },
   "outputs": [],
   "source": [
    "# scaler.fit(train)\n",
    "# scaled_train = scaler.transform(train)\n",
    "# scaled_test = scaler.transform(test)"
   ]
  },
  {
   "cell_type": "code",
   "execution_count": null,
   "metadata": {
    "executionInfo": {
     "elapsed": 33,
     "status": "ok",
     "timestamp": 1639717536673,
     "user": {
      "displayName": "Ashish Jha",
      "photoUrl": "https://lh3.googleusercontent.com/a-/AOh14Gh-ozBKE0He1qH4ZZ94HRMt241gIELK_ULLP7n1Mw=s64",
      "userId": "09828439102845854314"
     },
     "user_tz": -330
    },
    "id": "BrdKbJ3g6-Et"
   },
   "outputs": [],
   "source": [
    "# scaled_train[:10]"
   ]
  },
  {
   "cell_type": "code",
   "execution_count": null,
   "metadata": {
    "executionInfo": {
     "elapsed": 32,
     "status": "ok",
     "timestamp": 1639717536673,
     "user": {
      "displayName": "Ashish Jha",
      "photoUrl": "https://lh3.googleusercontent.com/a-/AOh14Gh-ozBKE0He1qH4ZZ94HRMt241gIELK_ULLP7n1Mw=s64",
      "userId": "09828439102845854314"
     },
     "user_tz": -330
    },
    "id": "0xryZ7rR62y5"
   },
   "outputs": [],
   "source": [
    "# from keras.preprocessing.sequence import TimeseriesGenerator"
   ]
  },
  {
   "cell_type": "code",
   "execution_count": null,
   "metadata": {
    "executionInfo": {
     "elapsed": 32,
     "status": "ok",
     "timestamp": 1639717536674,
     "user": {
      "displayName": "Ashish Jha",
      "photoUrl": "https://lh3.googleusercontent.com/a-/AOh14Gh-ozBKE0He1qH4ZZ94HRMt241gIELK_ULLP7n1Mw=s64",
      "userId": "09828439102845854314"
     },
     "user_tz": -330
    },
    "id": "CqyTKCVt69Z9"
   },
   "outputs": [],
   "source": [
    "# # define generator\n",
    "#  n_input = 5\n",
    "# n_features = 1\n",
    "# generator = TimeseriesGenerator(scaled_train, scaled_train, length=n_input, batch_size=1)"
   ]
  },
  {
   "cell_type": "code",
   "execution_count": null,
   "metadata": {
    "executionInfo": {
     "elapsed": 33,
     "status": "ok",
     "timestamp": 1639717536675,
     "user": {
      "displayName": "Ashish Jha",
      "photoUrl": "https://lh3.googleusercontent.com/a-/AOh14Gh-ozBKE0He1qH4ZZ94HRMt241gIELK_ULLP7n1Mw=s64",
      "userId": "09828439102845854314"
     },
     "user_tz": -330
    },
    "id": "ip6y5Ene7OM7"
   },
   "outputs": [],
   "source": [
    "# X,y = generator[0]\n",
    "# print(f'Given the Array: \\n{X.flatten()}')\n",
    "# print(f'Predict this y: \\n {y}')"
   ]
  },
  {
   "cell_type": "code",
   "execution_count": null,
   "metadata": {
    "executionInfo": {
     "elapsed": 33,
     "status": "ok",
     "timestamp": 1639717536676,
     "user": {
      "displayName": "Ashish Jha",
      "photoUrl": "https://lh3.googleusercontent.com/a-/AOh14Gh-ozBKE0He1qH4ZZ94HRMt241gIELK_ULLP7n1Mw=s64",
      "userId": "09828439102845854314"
     },
     "user_tz": -330
    },
    "id": "bQyGmvsi8HyR"
   },
   "outputs": [],
   "source": [
    "# X.shape"
   ]
  },
  {
   "cell_type": "code",
   "execution_count": null,
   "metadata": {
    "executionInfo": {
     "elapsed": 34,
     "status": "ok",
     "timestamp": 1639717536677,
     "user": {
      "displayName": "Ashish Jha",
      "photoUrl": "https://lh3.googleusercontent.com/a-/AOh14Gh-ozBKE0He1qH4ZZ94HRMt241gIELK_ULLP7n1Mw=s64",
      "userId": "09828439102845854314"
     },
     "user_tz": -330
    },
    "id": "jm-T4H4I7UaV"
   },
   "outputs": [],
   "source": [
    "# # We do the same thing, but now instead for 12 hours\n",
    "# n_input = 3\n",
    "# generator = TimeseriesGenerator(scaled_train, scaled_train, length=n_input, batch_size=1)"
   ]
  },
  {
   "cell_type": "code",
   "execution_count": null,
   "metadata": {
    "executionInfo": {
     "elapsed": 44,
     "status": "ok",
     "timestamp": 1639717536688,
     "user": {
      "displayName": "Ashish Jha",
      "photoUrl": "https://lh3.googleusercontent.com/a-/AOh14Gh-ozBKE0He1qH4ZZ94HRMt241gIELK_ULLP7n1Mw=s64",
      "userId": "09828439102845854314"
     },
     "user_tz": -330
    },
    "id": "bzIs_l_k7Zqg"
   },
   "outputs": [],
   "source": [
    "# from keras.models import Sequential\n",
    "# from keras.layers import Dense\n",
    "# from keras.layers import LSTM"
   ]
  },
  {
   "cell_type": "code",
   "execution_count": null,
   "metadata": {
    "executionInfo": {
     "elapsed": 44,
     "status": "ok",
     "timestamp": 1639717536689,
     "user": {
      "displayName": "Ashish Jha",
      "photoUrl": "https://lh3.googleusercontent.com/a-/AOh14Gh-ozBKE0He1qH4ZZ94HRMt241gIELK_ULLP7n1Mw=s64",
      "userId": "09828439102845854314"
     },
     "user_tz": -330
    },
    "id": "eJa-wFQf7jw6"
   },
   "outputs": [],
   "source": [
    "# # define model\n",
    "# model = Sequential()\n",
    "# model.add(LSTM(100, activation='relu', input_shape=(n_input, n_features)))\n",
    "# model.add(Dense(1))\n",
    "# model.compile(optimizer='adam', loss='mse')"
   ]
  },
  {
   "cell_type": "code",
   "execution_count": null,
   "metadata": {
    "executionInfo": {
     "elapsed": 45,
     "status": "ok",
     "timestamp": 1639717536690,
     "user": {
      "displayName": "Ashish Jha",
      "photoUrl": "https://lh3.googleusercontent.com/a-/AOh14Gh-ozBKE0He1qH4ZZ94HRMt241gIELK_ULLP7n1Mw=s64",
      "userId": "09828439102845854314"
     },
     "user_tz": -330
    },
    "id": "7i4ucUNv7lbk"
   },
   "outputs": [],
   "source": [
    "# model.summary()"
   ]
  },
  {
   "cell_type": "code",
   "execution_count": null,
   "metadata": {
    "executionInfo": {
     "elapsed": 44,
     "status": "ok",
     "timestamp": 1639717536690,
     "user": {
      "displayName": "Ashish Jha",
      "photoUrl": "https://lh3.googleusercontent.com/a-/AOh14Gh-ozBKE0He1qH4ZZ94HRMt241gIELK_ULLP7n1Mw=s64",
      "userId": "09828439102845854314"
     },
     "user_tz": -330
    },
    "id": "p8yqUZaz7nwp"
   },
   "outputs": [],
   "source": [
    "# fit model\n",
    "# model.fit(generator,epochs=50)"
   ]
  },
  {
   "cell_type": "code",
   "execution_count": null,
   "metadata": {
    "executionInfo": {
     "elapsed": 44,
     "status": "ok",
     "timestamp": 1639717536691,
     "user": {
      "displayName": "Ashish Jha",
      "photoUrl": "https://lh3.googleusercontent.com/a-/AOh14Gh-ozBKE0He1qH4ZZ94HRMt241gIELK_ULLP7n1Mw=s64",
      "userId": "09828439102845854314"
     },
     "user_tz": -330
    },
    "id": "OjDsOKR67rs8"
   },
   "outputs": [],
   "source": [
    "# loss_per_epoch = model.history.history['loss']\n",
    "# plt.plot(range(len(loss_per_epoch)),loss_per_epoch)"
   ]
  },
  {
   "cell_type": "code",
   "execution_count": null,
   "metadata": {
    "executionInfo": {
     "elapsed": 45,
     "status": "ok",
     "timestamp": 1639717536692,
     "user": {
      "displayName": "Ashish Jha",
      "photoUrl": "https://lh3.googleusercontent.com/a-/AOh14Gh-ozBKE0He1qH4ZZ94HRMt241gIELK_ULLP7n1Mw=s64",
      "userId": "09828439102845854314"
     },
     "user_tz": -330
    },
    "id": "h6h-fell70_S"
   },
   "outputs": [],
   "source": [
    "# last_train_batch = scaled_train[-12:]"
   ]
  },
  {
   "cell_type": "code",
   "execution_count": null,
   "metadata": {
    "executionInfo": {
     "elapsed": 45,
     "status": "ok",
     "timestamp": 1639717536693,
     "user": {
      "displayName": "Ashish Jha",
      "photoUrl": "https://lh3.googleusercontent.com/a-/AOh14Gh-ozBKE0He1qH4ZZ94HRMt241gIELK_ULLP7n1Mw=s64",
      "userId": "09828439102845854314"
     },
     "user_tz": -330
    },
    "id": "cwwv8O-p79bN"
   },
   "outputs": [],
   "source": [
    "# last_train_batch = last_train_batch.reshape((1, n_input, n_features))"
   ]
  },
  {
   "cell_type": "code",
   "execution_count": null,
   "metadata": {
    "executionInfo": {
     "elapsed": 44,
     "status": "ok",
     "timestamp": 1639717536693,
     "user": {
      "displayName": "Ashish Jha",
      "photoUrl": "https://lh3.googleusercontent.com/a-/AOh14Gh-ozBKE0He1qH4ZZ94HRMt241gIELK_ULLP7n1Mw=s64",
      "userId": "09828439102845854314"
     },
     "user_tz": -330
    },
    "id": "v-4WD4t78MpJ"
   },
   "outputs": [],
   "source": [
    "# model.predict(last_train_batch)"
   ]
  },
  {
   "cell_type": "code",
   "execution_count": null,
   "metadata": {
    "executionInfo": {
     "elapsed": 45,
     "status": "ok",
     "timestamp": 1639717536694,
     "user": {
      "displayName": "Ashish Jha",
      "photoUrl": "https://lh3.googleusercontent.com/a-/AOh14Gh-ozBKE0He1qH4ZZ94HRMt241gIELK_ULLP7n1Mw=s64",
      "userId": "09828439102845854314"
     },
     "user_tz": -330
    },
    "id": "ZbojFADE8StA"
   },
   "outputs": [],
   "source": [
    "# scaled_test[0]"
   ]
  },
  {
   "cell_type": "code",
   "execution_count": null,
   "metadata": {
    "executionInfo": {
     "elapsed": 45,
     "status": "ok",
     "timestamp": 1639717536695,
     "user": {
      "displayName": "Ashish Jha",
      "photoUrl": "https://lh3.googleusercontent.com/a-/AOh14Gh-ozBKE0He1qH4ZZ94HRMt241gIELK_ULLP7n1Mw=s64",
      "userId": "09828439102845854314"
     },
     "user_tz": -330
    },
    "id": "_MP-5Wez8jbY"
   },
   "outputs": [],
   "source": [
    "# test_predictions = []\n",
    "\n",
    "# first_eval_batch = scaled_train[-n_input:]\n",
    "# current_batch = first_eval_batch.reshape((1, n_input, n_features))\n",
    "\n",
    "# for i in range(len(test)):\n",
    "    \n",
    "#     # get the prediction value for the first batch\n",
    "#     current_pred = model.predict(current_batch)[0]\n",
    "    \n",
    "#     # append the prediction into the array\n",
    "#     test_predictions.append(current_pred) \n",
    "    \n",
    "#     # use the prediction to update the batch and remove the first value\n",
    "#     current_batch = np.append(current_batch[:,1:,:],[[current_pred]],axis=1)"
   ]
  },
  {
   "cell_type": "code",
   "execution_count": null,
   "metadata": {
    "executionInfo": {
     "elapsed": 45,
     "status": "ok",
     "timestamp": 1639717536696,
     "user": {
      "displayName": "Ashish Jha",
      "photoUrl": "https://lh3.googleusercontent.com/a-/AOh14Gh-ozBKE0He1qH4ZZ94HRMt241gIELK_ULLP7n1Mw=s64",
      "userId": "09828439102845854314"
     },
     "user_tz": -330
    },
    "id": "_mhvFuEy8sB7"
   },
   "outputs": [],
   "source": [
    "# test_predictions"
   ]
  },
  {
   "cell_type": "code",
   "execution_count": null,
   "metadata": {
    "executionInfo": {
     "elapsed": 45,
     "status": "ok",
     "timestamp": 1639717536697,
     "user": {
      "displayName": "Ashish Jha",
      "photoUrl": "https://lh3.googleusercontent.com/a-/AOh14Gh-ozBKE0He1qH4ZZ94HRMt241gIELK_ULLP7n1Mw=s64",
      "userId": "09828439102845854314"
     },
     "user_tz": -330
    },
    "id": "YYSqV10E9hlO"
   },
   "outputs": [],
   "source": [
    "# test.head()"
   ]
  },
  {
   "cell_type": "code",
   "execution_count": null,
   "metadata": {
    "executionInfo": {
     "elapsed": 44,
     "status": "ok",
     "timestamp": 1639717536697,
     "user": {
      "displayName": "Ashish Jha",
      "photoUrl": "https://lh3.googleusercontent.com/a-/AOh14Gh-ozBKE0He1qH4ZZ94HRMt241gIELK_ULLP7n1Mw=s64",
      "userId": "09828439102845854314"
     },
     "user_tz": -330
    },
    "id": "BHHzjNDK9EJZ"
   },
   "outputs": [],
   "source": [
    "# true_predictions = scaler.inverse_transform(test_predictions)"
   ]
  },
  {
   "cell_type": "code",
   "execution_count": null,
   "metadata": {
    "executionInfo": {
     "elapsed": 44,
     "status": "ok",
     "timestamp": 1639717536698,
     "user": {
      "displayName": "Ashish Jha",
      "photoUrl": "https://lh3.googleusercontent.com/a-/AOh14Gh-ozBKE0He1qH4ZZ94HRMt241gIELK_ULLP7n1Mw=s64",
      "userId": "09828439102845854314"
     },
     "user_tz": -330
    },
    "id": "0dsN45zf9I9u",
    "scrolled": true
   },
   "outputs": [],
   "source": [
    "# test['Predictions'] = true_predictions"
   ]
  },
  {
   "cell_type": "code",
   "execution_count": null,
   "metadata": {
    "executionInfo": {
     "elapsed": 598,
     "status": "ok",
     "timestamp": 1639717537252,
     "user": {
      "displayName": "Ashish Jha",
      "photoUrl": "https://lh3.googleusercontent.com/a-/AOh14Gh-ozBKE0He1qH4ZZ94HRMt241gIELK_ULLP7n1Mw=s64",
      "userId": "09828439102845854314"
     },
     "user_tz": -330
    },
    "id": "uVF-wPniqVhp"
   },
   "outputs": [],
   "source": [
    "# test.head()"
   ]
  },
  {
   "cell_type": "code",
   "execution_count": null,
   "metadata": {
    "executionInfo": {
     "elapsed": 11,
     "status": "ok",
     "timestamp": 1639717537253,
     "user": {
      "displayName": "Ashish Jha",
      "photoUrl": "https://lh3.googleusercontent.com/a-/AOh14Gh-ozBKE0He1qH4ZZ94HRMt241gIELK_ULLP7n1Mw=s64",
      "userId": "09828439102845854314"
     },
     "user_tz": -330
    },
    "id": "wqed09ifqVhp"
   },
   "outputs": [],
   "source": [
    "# test"
   ]
  },
  {
   "cell_type": "code",
   "execution_count": null,
   "metadata": {
    "executionInfo": {
     "elapsed": 12,
     "status": "ok",
     "timestamp": 1639717537255,
     "user": {
      "displayName": "Ashish Jha",
      "photoUrl": "https://lh3.googleusercontent.com/a-/AOh14Gh-ozBKE0He1qH4ZZ94HRMt241gIELK_ULLP7n1Mw=s64",
      "userId": "09828439102845854314"
     },
     "user_tz": -330
    },
    "id": "xJ7sI5xh9Lb0"
   },
   "outputs": [],
   "source": [
    "# test.plot(figsize=(14,5))"
   ]
  },
  {
   "cell_type": "code",
   "execution_count": null,
   "metadata": {
    "executionInfo": {
     "elapsed": 12,
     "status": "ok",
     "timestamp": 1639717537256,
     "user": {
      "displayName": "Ashish Jha",
      "photoUrl": "https://lh3.googleusercontent.com/a-/AOh14Gh-ozBKE0He1qH4ZZ94HRMt241gIELK_ULLP7n1Mw=s64",
      "userId": "09828439102845854314"
     },
     "user_tz": -330
    },
    "id": "OCsYjzge9OVe"
   },
   "outputs": [],
   "source": [
    "# from sklearn.metrics import mean_squared_error\n",
    "# from math import sqrt\n",
    "# rmse=sqrt(mean_squared_error(test['pm2.5'],test['Predictions']))\n",
    "# print(rmse)"
   ]
  },
  {
   "cell_type": "code",
   "execution_count": null,
   "metadata": {
    "executionInfo": {
     "elapsed": 12,
     "status": "ok",
     "timestamp": 1639717537257,
     "user": {
      "displayName": "Ashish Jha",
      "photoUrl": "https://lh3.googleusercontent.com/a-/AOh14Gh-ozBKE0He1qH4ZZ94HRMt241gIELK_ULLP7n1Mw=s64",
      "userId": "09828439102845854314"
     },
     "user_tz": -330
    },
    "id": "Bld3MIqDNW6I"
   },
   "outputs": [],
   "source": []
  }
 ],
 "metadata": {
  "colab": {
   "collapsed_sections": [],
   "name": "Ashish_LSTM.ipynb",
   "provenance": []
  },
  "kernelspec": {
   "display_name": "Python 3 (ipykernel)",
   "language": "python",
   "name": "python3"
  },
  "language_info": {
   "codemirror_mode": {
    "name": "ipython",
    "version": 3
   },
   "file_extension": ".py",
   "mimetype": "text/x-python",
   "name": "python",
   "nbconvert_exporter": "python",
   "pygments_lexer": "ipython3",
   "version": "3.8.12"
  }
 },
 "nbformat": 4,
 "nbformat_minor": 1
}
